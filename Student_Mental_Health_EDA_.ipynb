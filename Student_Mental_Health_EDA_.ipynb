{
  "nbformat": 4,
  "nbformat_minor": 0,
  "metadata": {
    "colab": {
      "provenance": []
    },
    "kernelspec": {
      "name": "python3",
      "display_name": "Python 3"
    },
    "language_info": {
      "name": "python"
    }
  },
  "cells": [
    {
      "cell_type": "code",
      "execution_count": 2,
      "metadata": {
        "id": "yWI_mUWnJ4VB"
      },
      "outputs": [],
      "source": [
        "import numpy as np\n",
        "import pandas as pd\n",
        "import matplotlib.pyplot as plt\n",
        "import tensorflow as tf\n",
        "import seaborn as sns"
      ]
    },
    {
      "cell_type": "code",
      "source": [
        "df=pd.read_csv(\"/content/Student Mental health.csv\")"
      ],
      "metadata": {
        "id": "lqR07hoxKCOz"
      },
      "execution_count": 3,
      "outputs": []
    },
    {
      "cell_type": "code",
      "source": [
        "df.head()"
      ],
      "metadata": {
        "colab": {
          "base_uri": "https://localhost:8080/",
          "height": 310
        },
        "id": "IR2kTBw0KEgj",
        "outputId": "0b47b1b4-5f84-46a1-da82-39429253f7f7"
      },
      "execution_count": 4,
      "outputs": [
        {
          "output_type": "execute_result",
          "data": {
            "text/plain": [
              "  Jenis Kelamin  Umur                 Jurusan  Tahun Studi          IPK  \\\n",
              "0     Perempuan    18            Teknik Mesin            1  3,00 - 3,49   \n",
              "1          Pria    21  Pendidikan Agama Islam            2  3,00 - 3,49   \n",
              "2          Pria    19                  Fisika            1  3,00 - 3,49   \n",
              "3     Perempuan    22                   Hukum            3  3,00 - 3,49   \n",
              "4          Pria    23              Matematika            4  3,00 - 3,49   \n",
              "\n",
              "  Sudah Menikah? Sedang Depresi? Sedang Cemas? Sedang Panik?  \\\n",
              "0          TIDAK              Ya         TIDAK            Ya   \n",
              "1          TIDAK           TIDAK            Ya         TIDAK   \n",
              "2          TIDAK              Ya            Ya            Ya   \n",
              "3             Ya              Ya         TIDAK         TIDAK   \n",
              "4          TIDAK           TIDAK         TIDAK         TIDAK   \n",
              "\n",
              "  Sedang Menjalani Perawatan? Stres Status  \n",
              "0                       TIDAK           Ya  \n",
              "1                       TIDAK           Ya  \n",
              "2                       TIDAK           Ya  \n",
              "3                       TIDAK           Ya  \n",
              "4                       TIDAK        TIDAK  "
            ],
            "text/html": [
              "\n",
              "  <div id=\"df-a2bdf7a1-2b94-4561-a974-7922db58e8c7\" class=\"colab-df-container\">\n",
              "    <div>\n",
              "<style scoped>\n",
              "    .dataframe tbody tr th:only-of-type {\n",
              "        vertical-align: middle;\n",
              "    }\n",
              "\n",
              "    .dataframe tbody tr th {\n",
              "        vertical-align: top;\n",
              "    }\n",
              "\n",
              "    .dataframe thead th {\n",
              "        text-align: right;\n",
              "    }\n",
              "</style>\n",
              "<table border=\"1\" class=\"dataframe\">\n",
              "  <thead>\n",
              "    <tr style=\"text-align: right;\">\n",
              "      <th></th>\n",
              "      <th>Jenis Kelamin</th>\n",
              "      <th>Umur</th>\n",
              "      <th>Jurusan</th>\n",
              "      <th>Tahun Studi</th>\n",
              "      <th>IPK</th>\n",
              "      <th>Sudah Menikah?</th>\n",
              "      <th>Sedang Depresi?</th>\n",
              "      <th>Sedang Cemas?</th>\n",
              "      <th>Sedang Panik?</th>\n",
              "      <th>Sedang Menjalani Perawatan?</th>\n",
              "      <th>Stres Status</th>\n",
              "    </tr>\n",
              "  </thead>\n",
              "  <tbody>\n",
              "    <tr>\n",
              "      <th>0</th>\n",
              "      <td>Perempuan</td>\n",
              "      <td>18</td>\n",
              "      <td>Teknik Mesin</td>\n",
              "      <td>1</td>\n",
              "      <td>3,00 - 3,49</td>\n",
              "      <td>TIDAK</td>\n",
              "      <td>Ya</td>\n",
              "      <td>TIDAK</td>\n",
              "      <td>Ya</td>\n",
              "      <td>TIDAK</td>\n",
              "      <td>Ya</td>\n",
              "    </tr>\n",
              "    <tr>\n",
              "      <th>1</th>\n",
              "      <td>Pria</td>\n",
              "      <td>21</td>\n",
              "      <td>Pendidikan Agama Islam</td>\n",
              "      <td>2</td>\n",
              "      <td>3,00 - 3,49</td>\n",
              "      <td>TIDAK</td>\n",
              "      <td>TIDAK</td>\n",
              "      <td>Ya</td>\n",
              "      <td>TIDAK</td>\n",
              "      <td>TIDAK</td>\n",
              "      <td>Ya</td>\n",
              "    </tr>\n",
              "    <tr>\n",
              "      <th>2</th>\n",
              "      <td>Pria</td>\n",
              "      <td>19</td>\n",
              "      <td>Fisika</td>\n",
              "      <td>1</td>\n",
              "      <td>3,00 - 3,49</td>\n",
              "      <td>TIDAK</td>\n",
              "      <td>Ya</td>\n",
              "      <td>Ya</td>\n",
              "      <td>Ya</td>\n",
              "      <td>TIDAK</td>\n",
              "      <td>Ya</td>\n",
              "    </tr>\n",
              "    <tr>\n",
              "      <th>3</th>\n",
              "      <td>Perempuan</td>\n",
              "      <td>22</td>\n",
              "      <td>Hukum</td>\n",
              "      <td>3</td>\n",
              "      <td>3,00 - 3,49</td>\n",
              "      <td>Ya</td>\n",
              "      <td>Ya</td>\n",
              "      <td>TIDAK</td>\n",
              "      <td>TIDAK</td>\n",
              "      <td>TIDAK</td>\n",
              "      <td>Ya</td>\n",
              "    </tr>\n",
              "    <tr>\n",
              "      <th>4</th>\n",
              "      <td>Pria</td>\n",
              "      <td>23</td>\n",
              "      <td>Matematika</td>\n",
              "      <td>4</td>\n",
              "      <td>3,00 - 3,49</td>\n",
              "      <td>TIDAK</td>\n",
              "      <td>TIDAK</td>\n",
              "      <td>TIDAK</td>\n",
              "      <td>TIDAK</td>\n",
              "      <td>TIDAK</td>\n",
              "      <td>TIDAK</td>\n",
              "    </tr>\n",
              "  </tbody>\n",
              "</table>\n",
              "</div>\n",
              "    <div class=\"colab-df-buttons\">\n",
              "\n",
              "  <div class=\"colab-df-container\">\n",
              "    <button class=\"colab-df-convert\" onclick=\"convertToInteractive('df-a2bdf7a1-2b94-4561-a974-7922db58e8c7')\"\n",
              "            title=\"Convert this dataframe to an interactive table.\"\n",
              "            style=\"display:none;\">\n",
              "\n",
              "  <svg xmlns=\"http://www.w3.org/2000/svg\" height=\"24px\" viewBox=\"0 -960 960 960\">\n",
              "    <path d=\"M120-120v-720h720v720H120Zm60-500h600v-160H180v160Zm220 220h160v-160H400v160Zm0 220h160v-160H400v160ZM180-400h160v-160H180v160Zm440 0h160v-160H620v160ZM180-180h160v-160H180v160Zm440 0h160v-160H620v160Z\"/>\n",
              "  </svg>\n",
              "    </button>\n",
              "\n",
              "  <style>\n",
              "    .colab-df-container {\n",
              "      display:flex;\n",
              "      gap: 12px;\n",
              "    }\n",
              "\n",
              "    .colab-df-convert {\n",
              "      background-color: #E8F0FE;\n",
              "      border: none;\n",
              "      border-radius: 50%;\n",
              "      cursor: pointer;\n",
              "      display: none;\n",
              "      fill: #1967D2;\n",
              "      height: 32px;\n",
              "      padding: 0 0 0 0;\n",
              "      width: 32px;\n",
              "    }\n",
              "\n",
              "    .colab-df-convert:hover {\n",
              "      background-color: #E2EBFA;\n",
              "      box-shadow: 0px 1px 2px rgba(60, 64, 67, 0.3), 0px 1px 3px 1px rgba(60, 64, 67, 0.15);\n",
              "      fill: #174EA6;\n",
              "    }\n",
              "\n",
              "    .colab-df-buttons div {\n",
              "      margin-bottom: 4px;\n",
              "    }\n",
              "\n",
              "    [theme=dark] .colab-df-convert {\n",
              "      background-color: #3B4455;\n",
              "      fill: #D2E3FC;\n",
              "    }\n",
              "\n",
              "    [theme=dark] .colab-df-convert:hover {\n",
              "      background-color: #434B5C;\n",
              "      box-shadow: 0px 1px 3px 1px rgba(0, 0, 0, 0.15);\n",
              "      filter: drop-shadow(0px 1px 2px rgba(0, 0, 0, 0.3));\n",
              "      fill: #FFFFFF;\n",
              "    }\n",
              "  </style>\n",
              "\n",
              "    <script>\n",
              "      const buttonEl =\n",
              "        document.querySelector('#df-a2bdf7a1-2b94-4561-a974-7922db58e8c7 button.colab-df-convert');\n",
              "      buttonEl.style.display =\n",
              "        google.colab.kernel.accessAllowed ? 'block' : 'none';\n",
              "\n",
              "      async function convertToInteractive(key) {\n",
              "        const element = document.querySelector('#df-a2bdf7a1-2b94-4561-a974-7922db58e8c7');\n",
              "        const dataTable =\n",
              "          await google.colab.kernel.invokeFunction('convertToInteractive',\n",
              "                                                    [key], {});\n",
              "        if (!dataTable) return;\n",
              "\n",
              "        const docLinkHtml = 'Like what you see? Visit the ' +\n",
              "          '<a target=\"_blank\" href=https://colab.research.google.com/notebooks/data_table.ipynb>data table notebook</a>'\n",
              "          + ' to learn more about interactive tables.';\n",
              "        element.innerHTML = '';\n",
              "        dataTable['output_type'] = 'display_data';\n",
              "        await google.colab.output.renderOutput(dataTable, element);\n",
              "        const docLink = document.createElement('div');\n",
              "        docLink.innerHTML = docLinkHtml;\n",
              "        element.appendChild(docLink);\n",
              "      }\n",
              "    </script>\n",
              "  </div>\n",
              "\n",
              "\n",
              "<div id=\"df-56d1d04e-fc86-43e2-9f10-eea4ff02175f\">\n",
              "  <button class=\"colab-df-quickchart\" onclick=\"quickchart('df-56d1d04e-fc86-43e2-9f10-eea4ff02175f')\"\n",
              "            title=\"Suggest charts\"\n",
              "            style=\"display:none;\">\n",
              "\n",
              "<svg xmlns=\"http://www.w3.org/2000/svg\" height=\"24px\"viewBox=\"0 0 24 24\"\n",
              "     width=\"24px\">\n",
              "    <g>\n",
              "        <path d=\"M19 3H5c-1.1 0-2 .9-2 2v14c0 1.1.9 2 2 2h14c1.1 0 2-.9 2-2V5c0-1.1-.9-2-2-2zM9 17H7v-7h2v7zm4 0h-2V7h2v10zm4 0h-2v-4h2v4z\"/>\n",
              "    </g>\n",
              "</svg>\n",
              "  </button>\n",
              "\n",
              "<style>\n",
              "  .colab-df-quickchart {\n",
              "      --bg-color: #E8F0FE;\n",
              "      --fill-color: #1967D2;\n",
              "      --hover-bg-color: #E2EBFA;\n",
              "      --hover-fill-color: #174EA6;\n",
              "      --disabled-fill-color: #AAA;\n",
              "      --disabled-bg-color: #DDD;\n",
              "  }\n",
              "\n",
              "  [theme=dark] .colab-df-quickchart {\n",
              "      --bg-color: #3B4455;\n",
              "      --fill-color: #D2E3FC;\n",
              "      --hover-bg-color: #434B5C;\n",
              "      --hover-fill-color: #FFFFFF;\n",
              "      --disabled-bg-color: #3B4455;\n",
              "      --disabled-fill-color: #666;\n",
              "  }\n",
              "\n",
              "  .colab-df-quickchart {\n",
              "    background-color: var(--bg-color);\n",
              "    border: none;\n",
              "    border-radius: 50%;\n",
              "    cursor: pointer;\n",
              "    display: none;\n",
              "    fill: var(--fill-color);\n",
              "    height: 32px;\n",
              "    padding: 0;\n",
              "    width: 32px;\n",
              "  }\n",
              "\n",
              "  .colab-df-quickchart:hover {\n",
              "    background-color: var(--hover-bg-color);\n",
              "    box-shadow: 0 1px 2px rgba(60, 64, 67, 0.3), 0 1px 3px 1px rgba(60, 64, 67, 0.15);\n",
              "    fill: var(--button-hover-fill-color);\n",
              "  }\n",
              "\n",
              "  .colab-df-quickchart-complete:disabled,\n",
              "  .colab-df-quickchart-complete:disabled:hover {\n",
              "    background-color: var(--disabled-bg-color);\n",
              "    fill: var(--disabled-fill-color);\n",
              "    box-shadow: none;\n",
              "  }\n",
              "\n",
              "  .colab-df-spinner {\n",
              "    border: 2px solid var(--fill-color);\n",
              "    border-color: transparent;\n",
              "    border-bottom-color: var(--fill-color);\n",
              "    animation:\n",
              "      spin 1s steps(1) infinite;\n",
              "  }\n",
              "\n",
              "  @keyframes spin {\n",
              "    0% {\n",
              "      border-color: transparent;\n",
              "      border-bottom-color: var(--fill-color);\n",
              "      border-left-color: var(--fill-color);\n",
              "    }\n",
              "    20% {\n",
              "      border-color: transparent;\n",
              "      border-left-color: var(--fill-color);\n",
              "      border-top-color: var(--fill-color);\n",
              "    }\n",
              "    30% {\n",
              "      border-color: transparent;\n",
              "      border-left-color: var(--fill-color);\n",
              "      border-top-color: var(--fill-color);\n",
              "      border-right-color: var(--fill-color);\n",
              "    }\n",
              "    40% {\n",
              "      border-color: transparent;\n",
              "      border-right-color: var(--fill-color);\n",
              "      border-top-color: var(--fill-color);\n",
              "    }\n",
              "    60% {\n",
              "      border-color: transparent;\n",
              "      border-right-color: var(--fill-color);\n",
              "    }\n",
              "    80% {\n",
              "      border-color: transparent;\n",
              "      border-right-color: var(--fill-color);\n",
              "      border-bottom-color: var(--fill-color);\n",
              "    }\n",
              "    90% {\n",
              "      border-color: transparent;\n",
              "      border-bottom-color: var(--fill-color);\n",
              "    }\n",
              "  }\n",
              "</style>\n",
              "\n",
              "  <script>\n",
              "    async function quickchart(key) {\n",
              "      const quickchartButtonEl =\n",
              "        document.querySelector('#' + key + ' button');\n",
              "      quickchartButtonEl.disabled = true;  // To prevent multiple clicks.\n",
              "      quickchartButtonEl.classList.add('colab-df-spinner');\n",
              "      try {\n",
              "        const charts = await google.colab.kernel.invokeFunction(\n",
              "            'suggestCharts', [key], {});\n",
              "      } catch (error) {\n",
              "        console.error('Error during call to suggestCharts:', error);\n",
              "      }\n",
              "      quickchartButtonEl.classList.remove('colab-df-spinner');\n",
              "      quickchartButtonEl.classList.add('colab-df-quickchart-complete');\n",
              "    }\n",
              "    (() => {\n",
              "      let quickchartButtonEl =\n",
              "        document.querySelector('#df-56d1d04e-fc86-43e2-9f10-eea4ff02175f button');\n",
              "      quickchartButtonEl.style.display =\n",
              "        google.colab.kernel.accessAllowed ? 'block' : 'none';\n",
              "    })();\n",
              "  </script>\n",
              "</div>\n",
              "    </div>\n",
              "  </div>\n"
            ],
            "application/vnd.google.colaboratory.intrinsic+json": {
              "type": "dataframe",
              "variable_name": "df",
              "summary": "{\n  \"name\": \"df\",\n  \"rows\": 225,\n  \"fields\": [\n    {\n      \"column\": \"Jenis Kelamin\",\n      \"properties\": {\n        \"dtype\": \"category\",\n        \"num_unique_values\": 2,\n        \"samples\": [\n          \"Pria\",\n          \"Perempuan\"\n        ],\n        \"semantic_type\": \"\",\n        \"description\": \"\"\n      }\n    },\n    {\n      \"column\": \"Umur\",\n      \"properties\": {\n        \"dtype\": \"number\",\n        \"std\": 2,\n        \"min\": 18,\n        \"max\": 24,\n        \"num_unique_values\": 7,\n        \"samples\": [\n          18,\n          21\n        ],\n        \"semantic_type\": \"\",\n        \"description\": \"\"\n      }\n    },\n    {\n      \"column\": \"Jurusan\",\n      \"properties\": {\n        \"dtype\": \"category\",\n        \"num_unique_values\": 52,\n        \"samples\": [\n          \"Ilmu biomedis\",\n          \"Kedokteran Gigi\"\n        ],\n        \"semantic_type\": \"\",\n        \"description\": \"\"\n      }\n    },\n    {\n      \"column\": \"Tahun Studi\",\n      \"properties\": {\n        \"dtype\": \"number\",\n        \"std\": 1,\n        \"min\": 1,\n        \"max\": 6,\n        \"num_unique_values\": 6,\n        \"samples\": [\n          1,\n          2\n        ],\n        \"semantic_type\": \"\",\n        \"description\": \"\"\n      }\n    },\n    {\n      \"column\": \"IPK\",\n      \"properties\": {\n        \"dtype\": \"category\",\n        \"num_unique_values\": 5,\n        \"samples\": [\n          \"3,50 - 4,00\",\n          \"0 - 1,99\"\n        ],\n        \"semantic_type\": \"\",\n        \"description\": \"\"\n      }\n    },\n    {\n      \"column\": \"Sudah Menikah?\",\n      \"properties\": {\n        \"dtype\": \"category\",\n        \"num_unique_values\": 2,\n        \"samples\": [\n          \"Ya\",\n          \"TIDAK\"\n        ],\n        \"semantic_type\": \"\",\n        \"description\": \"\"\n      }\n    },\n    {\n      \"column\": \"Sedang Depresi?\",\n      \"properties\": {\n        \"dtype\": \"category\",\n        \"num_unique_values\": 2,\n        \"samples\": [\n          \"TIDAK\",\n          \"Ya\"\n        ],\n        \"semantic_type\": \"\",\n        \"description\": \"\"\n      }\n    },\n    {\n      \"column\": \"Sedang Cemas?\",\n      \"properties\": {\n        \"dtype\": \"category\",\n        \"num_unique_values\": 2,\n        \"samples\": [\n          \"Ya\",\n          \"TIDAK\"\n        ],\n        \"semantic_type\": \"\",\n        \"description\": \"\"\n      }\n    },\n    {\n      \"column\": \"Sedang Panik?\",\n      \"properties\": {\n        \"dtype\": \"category\",\n        \"num_unique_values\": 2,\n        \"samples\": [\n          \"TIDAK\",\n          \"Ya\"\n        ],\n        \"semantic_type\": \"\",\n        \"description\": \"\"\n      }\n    },\n    {\n      \"column\": \"Sedang Menjalani Perawatan?\",\n      \"properties\": {\n        \"dtype\": \"category\",\n        \"num_unique_values\": 2,\n        \"samples\": [\n          \"Ya\",\n          \"TIDAK\"\n        ],\n        \"semantic_type\": \"\",\n        \"description\": \"\"\n      }\n    },\n    {\n      \"column\": \"Stres Status\",\n      \"properties\": {\n        \"dtype\": \"category\",\n        \"num_unique_values\": 2,\n        \"samples\": [\n          \"TIDAK\",\n          \"Ya\"\n        ],\n        \"semantic_type\": \"\",\n        \"description\": \"\"\n      }\n    }\n  ]\n}"
            }
          },
          "metadata": {},
          "execution_count": 4
        }
      ]
    },
    {
      "cell_type": "code",
      "source": [
        "print(df.shape)"
      ],
      "metadata": {
        "colab": {
          "base_uri": "https://localhost:8080/"
        },
        "id": "ufmkWWk-KG9A",
        "outputId": "8a42c6ad-29d4-4614-91ad-49af8a0180e5"
      },
      "execution_count": 5,
      "outputs": [
        {
          "output_type": "stream",
          "name": "stdout",
          "text": [
            "(225, 11)\n"
          ]
        }
      ]
    },
    {
      "cell_type": "code",
      "source": [
        "df.columns"
      ],
      "metadata": {
        "colab": {
          "base_uri": "https://localhost:8080/"
        },
        "id": "318A7hA9KJZS",
        "outputId": "dac0569f-be6f-4a5a-f343-76e06231991a"
      },
      "execution_count": 6,
      "outputs": [
        {
          "output_type": "execute_result",
          "data": {
            "text/plain": [
              "Index(['Jenis Kelamin', 'Umur', 'Jurusan', 'Tahun Studi', 'IPK',\n",
              "       'Sudah Menikah?', 'Sedang Depresi?', 'Sedang Cemas?', 'Sedang Panik?',\n",
              "       'Sedang Menjalani Perawatan?', 'Stres Status'],\n",
              "      dtype='object')"
            ]
          },
          "metadata": {},
          "execution_count": 6
        }
      ]
    },
    {
      "cell_type": "code",
      "source": [
        "df.describe()"
      ],
      "metadata": {
        "colab": {
          "base_uri": "https://localhost:8080/",
          "height": 300
        },
        "id": "gHkXifq7KMLB",
        "outputId": "eeb19bc0-0148-4d43-91fb-17fc3c34abd4"
      },
      "execution_count": 7,
      "outputs": [
        {
          "output_type": "execute_result",
          "data": {
            "text/plain": [
              "             Umur  Tahun Studi\n",
              "count  225.000000   225.000000\n",
              "mean    20.493333     2.280000\n",
              "std      2.066139     1.201487\n",
              "min     18.000000     1.000000\n",
              "25%     19.000000     1.000000\n",
              "50%     20.000000     2.000000\n",
              "75%     22.000000     3.000000\n",
              "max     24.000000     6.000000"
            ],
            "text/html": [
              "\n",
              "  <div id=\"df-43ed0fd4-eb2e-4802-bd2c-9aabe36e7f01\" class=\"colab-df-container\">\n",
              "    <div>\n",
              "<style scoped>\n",
              "    .dataframe tbody tr th:only-of-type {\n",
              "        vertical-align: middle;\n",
              "    }\n",
              "\n",
              "    .dataframe tbody tr th {\n",
              "        vertical-align: top;\n",
              "    }\n",
              "\n",
              "    .dataframe thead th {\n",
              "        text-align: right;\n",
              "    }\n",
              "</style>\n",
              "<table border=\"1\" class=\"dataframe\">\n",
              "  <thead>\n",
              "    <tr style=\"text-align: right;\">\n",
              "      <th></th>\n",
              "      <th>Umur</th>\n",
              "      <th>Tahun Studi</th>\n",
              "    </tr>\n",
              "  </thead>\n",
              "  <tbody>\n",
              "    <tr>\n",
              "      <th>count</th>\n",
              "      <td>225.000000</td>\n",
              "      <td>225.000000</td>\n",
              "    </tr>\n",
              "    <tr>\n",
              "      <th>mean</th>\n",
              "      <td>20.493333</td>\n",
              "      <td>2.280000</td>\n",
              "    </tr>\n",
              "    <tr>\n",
              "      <th>std</th>\n",
              "      <td>2.066139</td>\n",
              "      <td>1.201487</td>\n",
              "    </tr>\n",
              "    <tr>\n",
              "      <th>min</th>\n",
              "      <td>18.000000</td>\n",
              "      <td>1.000000</td>\n",
              "    </tr>\n",
              "    <tr>\n",
              "      <th>25%</th>\n",
              "      <td>19.000000</td>\n",
              "      <td>1.000000</td>\n",
              "    </tr>\n",
              "    <tr>\n",
              "      <th>50%</th>\n",
              "      <td>20.000000</td>\n",
              "      <td>2.000000</td>\n",
              "    </tr>\n",
              "    <tr>\n",
              "      <th>75%</th>\n",
              "      <td>22.000000</td>\n",
              "      <td>3.000000</td>\n",
              "    </tr>\n",
              "    <tr>\n",
              "      <th>max</th>\n",
              "      <td>24.000000</td>\n",
              "      <td>6.000000</td>\n",
              "    </tr>\n",
              "  </tbody>\n",
              "</table>\n",
              "</div>\n",
              "    <div class=\"colab-df-buttons\">\n",
              "\n",
              "  <div class=\"colab-df-container\">\n",
              "    <button class=\"colab-df-convert\" onclick=\"convertToInteractive('df-43ed0fd4-eb2e-4802-bd2c-9aabe36e7f01')\"\n",
              "            title=\"Convert this dataframe to an interactive table.\"\n",
              "            style=\"display:none;\">\n",
              "\n",
              "  <svg xmlns=\"http://www.w3.org/2000/svg\" height=\"24px\" viewBox=\"0 -960 960 960\">\n",
              "    <path d=\"M120-120v-720h720v720H120Zm60-500h600v-160H180v160Zm220 220h160v-160H400v160Zm0 220h160v-160H400v160ZM180-400h160v-160H180v160Zm440 0h160v-160H620v160ZM180-180h160v-160H180v160Zm440 0h160v-160H620v160Z\"/>\n",
              "  </svg>\n",
              "    </button>\n",
              "\n",
              "  <style>\n",
              "    .colab-df-container {\n",
              "      display:flex;\n",
              "      gap: 12px;\n",
              "    }\n",
              "\n",
              "    .colab-df-convert {\n",
              "      background-color: #E8F0FE;\n",
              "      border: none;\n",
              "      border-radius: 50%;\n",
              "      cursor: pointer;\n",
              "      display: none;\n",
              "      fill: #1967D2;\n",
              "      height: 32px;\n",
              "      padding: 0 0 0 0;\n",
              "      width: 32px;\n",
              "    }\n",
              "\n",
              "    .colab-df-convert:hover {\n",
              "      background-color: #E2EBFA;\n",
              "      box-shadow: 0px 1px 2px rgba(60, 64, 67, 0.3), 0px 1px 3px 1px rgba(60, 64, 67, 0.15);\n",
              "      fill: #174EA6;\n",
              "    }\n",
              "\n",
              "    .colab-df-buttons div {\n",
              "      margin-bottom: 4px;\n",
              "    }\n",
              "\n",
              "    [theme=dark] .colab-df-convert {\n",
              "      background-color: #3B4455;\n",
              "      fill: #D2E3FC;\n",
              "    }\n",
              "\n",
              "    [theme=dark] .colab-df-convert:hover {\n",
              "      background-color: #434B5C;\n",
              "      box-shadow: 0px 1px 3px 1px rgba(0, 0, 0, 0.15);\n",
              "      filter: drop-shadow(0px 1px 2px rgba(0, 0, 0, 0.3));\n",
              "      fill: #FFFFFF;\n",
              "    }\n",
              "  </style>\n",
              "\n",
              "    <script>\n",
              "      const buttonEl =\n",
              "        document.querySelector('#df-43ed0fd4-eb2e-4802-bd2c-9aabe36e7f01 button.colab-df-convert');\n",
              "      buttonEl.style.display =\n",
              "        google.colab.kernel.accessAllowed ? 'block' : 'none';\n",
              "\n",
              "      async function convertToInteractive(key) {\n",
              "        const element = document.querySelector('#df-43ed0fd4-eb2e-4802-bd2c-9aabe36e7f01');\n",
              "        const dataTable =\n",
              "          await google.colab.kernel.invokeFunction('convertToInteractive',\n",
              "                                                    [key], {});\n",
              "        if (!dataTable) return;\n",
              "\n",
              "        const docLinkHtml = 'Like what you see? Visit the ' +\n",
              "          '<a target=\"_blank\" href=https://colab.research.google.com/notebooks/data_table.ipynb>data table notebook</a>'\n",
              "          + ' to learn more about interactive tables.';\n",
              "        element.innerHTML = '';\n",
              "        dataTable['output_type'] = 'display_data';\n",
              "        await google.colab.output.renderOutput(dataTable, element);\n",
              "        const docLink = document.createElement('div');\n",
              "        docLink.innerHTML = docLinkHtml;\n",
              "        element.appendChild(docLink);\n",
              "      }\n",
              "    </script>\n",
              "  </div>\n",
              "\n",
              "\n",
              "<div id=\"df-e949f11f-e0a7-415f-aabc-bef34b57de9d\">\n",
              "  <button class=\"colab-df-quickchart\" onclick=\"quickchart('df-e949f11f-e0a7-415f-aabc-bef34b57de9d')\"\n",
              "            title=\"Suggest charts\"\n",
              "            style=\"display:none;\">\n",
              "\n",
              "<svg xmlns=\"http://www.w3.org/2000/svg\" height=\"24px\"viewBox=\"0 0 24 24\"\n",
              "     width=\"24px\">\n",
              "    <g>\n",
              "        <path d=\"M19 3H5c-1.1 0-2 .9-2 2v14c0 1.1.9 2 2 2h14c1.1 0 2-.9 2-2V5c0-1.1-.9-2-2-2zM9 17H7v-7h2v7zm4 0h-2V7h2v10zm4 0h-2v-4h2v4z\"/>\n",
              "    </g>\n",
              "</svg>\n",
              "  </button>\n",
              "\n",
              "<style>\n",
              "  .colab-df-quickchart {\n",
              "      --bg-color: #E8F0FE;\n",
              "      --fill-color: #1967D2;\n",
              "      --hover-bg-color: #E2EBFA;\n",
              "      --hover-fill-color: #174EA6;\n",
              "      --disabled-fill-color: #AAA;\n",
              "      --disabled-bg-color: #DDD;\n",
              "  }\n",
              "\n",
              "  [theme=dark] .colab-df-quickchart {\n",
              "      --bg-color: #3B4455;\n",
              "      --fill-color: #D2E3FC;\n",
              "      --hover-bg-color: #434B5C;\n",
              "      --hover-fill-color: #FFFFFF;\n",
              "      --disabled-bg-color: #3B4455;\n",
              "      --disabled-fill-color: #666;\n",
              "  }\n",
              "\n",
              "  .colab-df-quickchart {\n",
              "    background-color: var(--bg-color);\n",
              "    border: none;\n",
              "    border-radius: 50%;\n",
              "    cursor: pointer;\n",
              "    display: none;\n",
              "    fill: var(--fill-color);\n",
              "    height: 32px;\n",
              "    padding: 0;\n",
              "    width: 32px;\n",
              "  }\n",
              "\n",
              "  .colab-df-quickchart:hover {\n",
              "    background-color: var(--hover-bg-color);\n",
              "    box-shadow: 0 1px 2px rgba(60, 64, 67, 0.3), 0 1px 3px 1px rgba(60, 64, 67, 0.15);\n",
              "    fill: var(--button-hover-fill-color);\n",
              "  }\n",
              "\n",
              "  .colab-df-quickchart-complete:disabled,\n",
              "  .colab-df-quickchart-complete:disabled:hover {\n",
              "    background-color: var(--disabled-bg-color);\n",
              "    fill: var(--disabled-fill-color);\n",
              "    box-shadow: none;\n",
              "  }\n",
              "\n",
              "  .colab-df-spinner {\n",
              "    border: 2px solid var(--fill-color);\n",
              "    border-color: transparent;\n",
              "    border-bottom-color: var(--fill-color);\n",
              "    animation:\n",
              "      spin 1s steps(1) infinite;\n",
              "  }\n",
              "\n",
              "  @keyframes spin {\n",
              "    0% {\n",
              "      border-color: transparent;\n",
              "      border-bottom-color: var(--fill-color);\n",
              "      border-left-color: var(--fill-color);\n",
              "    }\n",
              "    20% {\n",
              "      border-color: transparent;\n",
              "      border-left-color: var(--fill-color);\n",
              "      border-top-color: var(--fill-color);\n",
              "    }\n",
              "    30% {\n",
              "      border-color: transparent;\n",
              "      border-left-color: var(--fill-color);\n",
              "      border-top-color: var(--fill-color);\n",
              "      border-right-color: var(--fill-color);\n",
              "    }\n",
              "    40% {\n",
              "      border-color: transparent;\n",
              "      border-right-color: var(--fill-color);\n",
              "      border-top-color: var(--fill-color);\n",
              "    }\n",
              "    60% {\n",
              "      border-color: transparent;\n",
              "      border-right-color: var(--fill-color);\n",
              "    }\n",
              "    80% {\n",
              "      border-color: transparent;\n",
              "      border-right-color: var(--fill-color);\n",
              "      border-bottom-color: var(--fill-color);\n",
              "    }\n",
              "    90% {\n",
              "      border-color: transparent;\n",
              "      border-bottom-color: var(--fill-color);\n",
              "    }\n",
              "  }\n",
              "</style>\n",
              "\n",
              "  <script>\n",
              "    async function quickchart(key) {\n",
              "      const quickchartButtonEl =\n",
              "        document.querySelector('#' + key + ' button');\n",
              "      quickchartButtonEl.disabled = true;  // To prevent multiple clicks.\n",
              "      quickchartButtonEl.classList.add('colab-df-spinner');\n",
              "      try {\n",
              "        const charts = await google.colab.kernel.invokeFunction(\n",
              "            'suggestCharts', [key], {});\n",
              "      } catch (error) {\n",
              "        console.error('Error during call to suggestCharts:', error);\n",
              "      }\n",
              "      quickchartButtonEl.classList.remove('colab-df-spinner');\n",
              "      quickchartButtonEl.classList.add('colab-df-quickchart-complete');\n",
              "    }\n",
              "    (() => {\n",
              "      let quickchartButtonEl =\n",
              "        document.querySelector('#df-e949f11f-e0a7-415f-aabc-bef34b57de9d button');\n",
              "      quickchartButtonEl.style.display =\n",
              "        google.colab.kernel.accessAllowed ? 'block' : 'none';\n",
              "    })();\n",
              "  </script>\n",
              "</div>\n",
              "    </div>\n",
              "  </div>\n"
            ],
            "application/vnd.google.colaboratory.intrinsic+json": {
              "type": "dataframe",
              "summary": "{\n  \"name\": \"df\",\n  \"rows\": 8,\n  \"fields\": [\n    {\n      \"column\": \"Umur\",\n      \"properties\": {\n        \"dtype\": \"number\",\n        \"std\": 73.51652168287731,\n        \"min\": 2.0661385653988873,\n        \"max\": 225.0,\n        \"num_unique_values\": 8,\n        \"samples\": [\n          20.493333333333332,\n          20.0,\n          225.0\n        ],\n        \"semantic_type\": \"\",\n        \"description\": \"\"\n      }\n    },\n    {\n      \"column\": \"Tahun Studi\",\n      \"properties\": {\n        \"dtype\": \"number\",\n        \"std\": 78.73416248044128,\n        \"min\": 1.0,\n        \"max\": 225.0,\n        \"num_unique_values\": 7,\n        \"samples\": [\n          225.0,\n          2.28,\n          3.0\n        ],\n        \"semantic_type\": \"\",\n        \"description\": \"\"\n      }\n    }\n  ]\n}"
            }
          },
          "metadata": {},
          "execution_count": 7
        }
      ]
    },
    {
      "cell_type": "code",
      "source": [
        "# age column is strange, look for outliers\n",
        "df['Umur'].value_counts()"
      ],
      "metadata": {
        "colab": {
          "base_uri": "https://localhost:8080/"
        },
        "id": "e-wBpxZeKOtF",
        "outputId": "b2039651-44f2-412b-e70e-50c7d3af46e1"
      },
      "execution_count": 8,
      "outputs": [
        {
          "output_type": "execute_result",
          "data": {
            "text/plain": [
              "Umur\n",
              "18    47\n",
              "19    43\n",
              "20    39\n",
              "24    31\n",
              "21    27\n",
              "23    21\n",
              "22    17\n",
              "Name: count, dtype: int64"
            ]
          },
          "metadata": {},
          "execution_count": 8
        }
      ]
    },
    {
      "cell_type": "markdown",
      "source": [
        "## Data Cleaning"
      ],
      "metadata": {
        "id": "HoOuEliY0i0d"
      }
    },
    {
      "cell_type": "code",
      "source": [
        "df=df.drop_duplicates()"
      ],
      "metadata": {
        "id": "2hd3RoAWKV2X"
      },
      "execution_count": 9,
      "outputs": []
    },
    {
      "cell_type": "code",
      "source": [
        "df.isnull().sum()"
      ],
      "metadata": {
        "colab": {
          "base_uri": "https://localhost:8080/"
        },
        "id": "ItSGyW-SKY4u",
        "outputId": "603968ac-3631-486b-b6e6-0bb7067d2a29"
      },
      "execution_count": 10,
      "outputs": [
        {
          "output_type": "execute_result",
          "data": {
            "text/plain": [
              "Jenis Kelamin                  0\n",
              "Umur                           0\n",
              "Jurusan                        0\n",
              "Tahun Studi                    0\n",
              "IPK                            0\n",
              "Sudah Menikah?                 0\n",
              "Sedang Depresi?                0\n",
              "Sedang Cemas?                  0\n",
              "Sedang Panik?                  0\n",
              "Sedang Menjalani Perawatan?    0\n",
              "Stres Status                   0\n",
              "dtype: int64"
            ]
          },
          "metadata": {},
          "execution_count": 10
        }
      ]
    },
    {
      "cell_type": "markdown",
      "source": [
        "Kami melihat satu baris memiliki nilai yang hilang sehingga solusi termudah adalah dengan menghilangkan baris tersebut seluruhnya"
      ],
      "metadata": {
        "id": "p7xSz0Oq-aqm"
      }
    },
    {
      "cell_type": "code",
      "source": [
        "df.dropna(inplace=True)\n",
        "df.isna().sum()"
      ],
      "metadata": {
        "colab": {
          "base_uri": "https://localhost:8080/"
        },
        "id": "YqHN6_W_KZ55",
        "outputId": "999d1c60-be6a-4dbb-a1d1-008b0e960101"
      },
      "execution_count": 11,
      "outputs": [
        {
          "output_type": "execute_result",
          "data": {
            "text/plain": [
              "Jenis Kelamin                  0\n",
              "Umur                           0\n",
              "Jurusan                        0\n",
              "Tahun Studi                    0\n",
              "IPK                            0\n",
              "Sudah Menikah?                 0\n",
              "Sedang Depresi?                0\n",
              "Sedang Cemas?                  0\n",
              "Sedang Panik?                  0\n",
              "Sedang Menjalani Perawatan?    0\n",
              "Stres Status                   0\n",
              "dtype: int64"
            ]
          },
          "metadata": {},
          "execution_count": 11
        }
      ]
    },
    {
      "cell_type": "code",
      "source": [
        "columns_names = ['Jenis Kelamin', 'Umur', 'Jurusan', 'Tahun Studi', 'IPK',\n",
        "       'Sudah Menikah?', 'Sedang Depresi?', 'Sedang Cemas?', 'Sedang Panik?',\n",
        "       'Sedang Menjalani Perawatan?', 'Stres Status']\n",
        "df.columns = columns_names\n",
        "df.info()"
      ],
      "metadata": {
        "colab": {
          "base_uri": "https://localhost:8080/"
        },
        "id": "0oN2h38DKjEI",
        "outputId": "b6a7d0db-edf4-481e-9a00-ac19477e2859"
      },
      "execution_count": 12,
      "outputs": [
        {
          "output_type": "stream",
          "name": "stdout",
          "text": [
            "<class 'pandas.core.frame.DataFrame'>\n",
            "Index: 188 entries, 0 to 224\n",
            "Data columns (total 11 columns):\n",
            " #   Column                       Non-Null Count  Dtype \n",
            "---  ------                       --------------  ----- \n",
            " 0   Jenis Kelamin                188 non-null    object\n",
            " 1   Umur                         188 non-null    int64 \n",
            " 2   Jurusan                      188 non-null    object\n",
            " 3   Tahun Studi                  188 non-null    int64 \n",
            " 4   IPK                          188 non-null    object\n",
            " 5   Sudah Menikah?               188 non-null    object\n",
            " 6   Sedang Depresi?              188 non-null    object\n",
            " 7   Sedang Cemas?                188 non-null    object\n",
            " 8   Sedang Panik?                188 non-null    object\n",
            " 9   Sedang Menjalani Perawatan?  188 non-null    object\n",
            " 10  Stres Status                 188 non-null    object\n",
            "dtypes: int64(2), object(9)\n",
            "memory usage: 17.6+ KB\n"
          ]
        }
      ]
    },
    {
      "cell_type": "markdown",
      "source": [
        "Penamaan setiap kolom terlalu panjang sehingga lebih mudah untuk mengganti nama menjadi nama yang lebih pendek dan deskriptif"
      ],
      "metadata": {
        "id": "priA_YQb-ndY"
      }
    },
    {
      "cell_type": "markdown",
      "source": [
        "**Umur**"
      ],
      "metadata": {
        "id": "ePIFitVA_wtJ"
      }
    },
    {
      "cell_type": "code",
      "source": [
        "df['Umur'].dtype\n",
        "# dtype('float64')\n",
        "df['Umur'] = df['Umur'].astype(int)\n",
        "df['Umur'].dtype"
      ],
      "metadata": {
        "colab": {
          "base_uri": "https://localhost:8080/"
        },
        "id": "mYPHzOq_Kr7j",
        "outputId": "e1ec1dbe-651d-4d26-9c97-5f565046b6c4"
      },
      "execution_count": 13,
      "outputs": [
        {
          "output_type": "execute_result",
          "data": {
            "text/plain": [
              "dtype('int64')"
            ]
          },
          "metadata": {},
          "execution_count": 13
        }
      ]
    },
    {
      "cell_type": "markdown",
      "source": [
        "**Tahun Studi**"
      ],
      "metadata": {
        "id": "0y7URQTELEoU"
      }
    },
    {
      "cell_type": "code",
      "source": [
        "df['Tahun Studi'].unique()"
      ],
      "metadata": {
        "colab": {
          "base_uri": "https://localhost:8080/"
        },
        "id": "O24x1WvTLGEj",
        "outputId": "6dede9fd-2db2-42f4-c700-7c89bb16bd37"
      },
      "execution_count": 14,
      "outputs": [
        {
          "output_type": "execute_result",
          "data": {
            "text/plain": [
              "array([1, 2, 3, 4, 5, 6])"
            ]
          },
          "metadata": {},
          "execution_count": 14
        }
      ]
    },
    {
      "cell_type": "markdown",
      "source": [
        "Kami menemukan metode terbaik bagi kami adalah mengubah kolom Tahun Studi menjadi tipe integer yang hanya berisi Tahun"
      ],
      "metadata": {
        "id": "xDjeCuZ2AB8p"
      }
    },
    {
      "cell_type": "markdown",
      "source": [
        "**Kolom IPK**"
      ],
      "metadata": {
        "id": "fcKPi_BzALBr"
      }
    },
    {
      "cell_type": "code",
      "source": [
        "df['IPK'].unique()"
      ],
      "metadata": {
        "colab": {
          "base_uri": "https://localhost:8080/"
        },
        "id": "HmRiJjUOLOOn",
        "outputId": "f96d5e49-dcc7-43b5-dd32-1c9256691cde"
      },
      "execution_count": 16,
      "outputs": [
        {
          "output_type": "execute_result",
          "data": {
            "text/plain": [
              "array(['3,00 - 3,49', '3,50 - 4,00', '2,50 - 2,99', '2,00 - 2,49',\n",
              "       '0 - 1,99'], dtype=object)"
            ]
          },
          "metadata": {},
          "execution_count": 16
        }
      ]
    },
    {
      "cell_type": "markdown",
      "source": [
        "Menghapus nilai-nilai berbeda yang disebabkan oleh spasi putih"
      ],
      "metadata": {
        "id": "Sbuzs5_nATHG"
      }
    },
    {
      "cell_type": "markdown",
      "source": [
        "**Students Conditions**"
      ],
      "metadata": {
        "id": "2LQCt3TIAb8Q"
      }
    },
    {
      "cell_type": "code",
      "source": [
        "depressed_filter = df['Sedang Depresi?'] == 'Ya'\n",
        "anxiety_filter = df['Sedang Cemas?'] == 'Ya'\n",
        "panicking_filter = df['Sedang Panik?'] == 'Ya'\n",
        "conditions_filter = anxiety_filter | depressed_filter | panicking_filter\n",
        "no_conditions_filter = ~depressed_filter & ~anxiety_filter & ~panicking_filter"
      ],
      "metadata": {
        "id": "PQmy8vfvLqRq"
      },
      "execution_count": 17,
      "outputs": []
    },
    {
      "cell_type": "markdown",
      "source": [
        "Setelah membuat beberapa filter, saya menambahkan kolom baru bernama Has Condition? untuk menunjukkan apakah seorang Siswa terpengaruh atau tidak oleh suatu kondisi."
      ],
      "metadata": {
        "id": "beOpMjomAkG3"
      }
    },
    {
      "cell_type": "code",
      "source": [
        "df['Memiliki Kondisi?'] = np.where(conditions_filter, 'Ya',\"TIDAK\")\n",
        "df"
      ],
      "metadata": {
        "colab": {
          "base_uri": "https://localhost:8080/",
          "height": 615
        },
        "id": "Bgg4KbNXMEv4",
        "outputId": "8f963ea4-e5e4-45ff-caae-dd1669ebb464"
      },
      "execution_count": 18,
      "outputs": [
        {
          "output_type": "execute_result",
          "data": {
            "text/plain": [
              "    Jenis Kelamin  Umur                 Jurusan  Tahun Studi          IPK  \\\n",
              "0       Perempuan    18            Teknik Mesin            1  3,00 - 3,49   \n",
              "1            Pria    21  Pendidikan Agama Islam            2  3,00 - 3,49   \n",
              "2            Pria    19                  Fisika            1  3,00 - 3,49   \n",
              "3       Perempuan    22                   Hukum            3  3,00 - 3,49   \n",
              "4            Pria    23              Matematika            4  3,00 - 3,49   \n",
              "..            ...   ...                     ...          ...          ...   \n",
              "220     Perempuan    21           Ilmu Komputer            3  3,00 - 3,49   \n",
              "221     Perempuan    20               Manajemen            2  3,00 - 3,49   \n",
              "222          Pria    23                 Biologi            4  3,50 - 4,00   \n",
              "223          Pria    21          Teknik Elektro            3  3,50 - 4,00   \n",
              "224          Pria    20            Teknik Mesin            2  3,00 - 3,49   \n",
              "\n",
              "    Sudah Menikah? Sedang Depresi? Sedang Cemas? Sedang Panik?  \\\n",
              "0            TIDAK              Ya         TIDAK            Ya   \n",
              "1            TIDAK           TIDAK            Ya         TIDAK   \n",
              "2            TIDAK              Ya            Ya            Ya   \n",
              "3               Ya              Ya         TIDAK         TIDAK   \n",
              "4            TIDAK           TIDAK         TIDAK         TIDAK   \n",
              "..             ...             ...           ...           ...   \n",
              "220          TIDAK              Ya         TIDAK            Ya   \n",
              "221             Ya              Ya         TIDAK         TIDAK   \n",
              "222             Ya           TIDAK         TIDAK         TIDAK   \n",
              "223          TIDAK              Ya            Ya         TIDAK   \n",
              "224          TIDAK           TIDAK         TIDAK         TIDAK   \n",
              "\n",
              "    Sedang Menjalani Perawatan? Stres Status Memiliki Kondisi?  \n",
              "0                         TIDAK           Ya                Ya  \n",
              "1                         TIDAK           Ya                Ya  \n",
              "2                         TIDAK           Ya                Ya  \n",
              "3                         TIDAK           Ya                Ya  \n",
              "4                         TIDAK        TIDAK             TIDAK  \n",
              "..                          ...          ...               ...  \n",
              "220                          Ya           Ya                Ya  \n",
              "221                       TIDAK           Ya                Ya  \n",
              "222                       TIDAK           Ya             TIDAK  \n",
              "223                       TIDAK           Ya                Ya  \n",
              "224                       TIDAK        TIDAK             TIDAK  \n",
              "\n",
              "[188 rows x 12 columns]"
            ],
            "text/html": [
              "\n",
              "  <div id=\"df-efb84646-1d1b-44e0-bb53-57cef6305bb0\" class=\"colab-df-container\">\n",
              "    <div>\n",
              "<style scoped>\n",
              "    .dataframe tbody tr th:only-of-type {\n",
              "        vertical-align: middle;\n",
              "    }\n",
              "\n",
              "    .dataframe tbody tr th {\n",
              "        vertical-align: top;\n",
              "    }\n",
              "\n",
              "    .dataframe thead th {\n",
              "        text-align: right;\n",
              "    }\n",
              "</style>\n",
              "<table border=\"1\" class=\"dataframe\">\n",
              "  <thead>\n",
              "    <tr style=\"text-align: right;\">\n",
              "      <th></th>\n",
              "      <th>Jenis Kelamin</th>\n",
              "      <th>Umur</th>\n",
              "      <th>Jurusan</th>\n",
              "      <th>Tahun Studi</th>\n",
              "      <th>IPK</th>\n",
              "      <th>Sudah Menikah?</th>\n",
              "      <th>Sedang Depresi?</th>\n",
              "      <th>Sedang Cemas?</th>\n",
              "      <th>Sedang Panik?</th>\n",
              "      <th>Sedang Menjalani Perawatan?</th>\n",
              "      <th>Stres Status</th>\n",
              "      <th>Memiliki Kondisi?</th>\n",
              "    </tr>\n",
              "  </thead>\n",
              "  <tbody>\n",
              "    <tr>\n",
              "      <th>0</th>\n",
              "      <td>Perempuan</td>\n",
              "      <td>18</td>\n",
              "      <td>Teknik Mesin</td>\n",
              "      <td>1</td>\n",
              "      <td>3,00 - 3,49</td>\n",
              "      <td>TIDAK</td>\n",
              "      <td>Ya</td>\n",
              "      <td>TIDAK</td>\n",
              "      <td>Ya</td>\n",
              "      <td>TIDAK</td>\n",
              "      <td>Ya</td>\n",
              "      <td>Ya</td>\n",
              "    </tr>\n",
              "    <tr>\n",
              "      <th>1</th>\n",
              "      <td>Pria</td>\n",
              "      <td>21</td>\n",
              "      <td>Pendidikan Agama Islam</td>\n",
              "      <td>2</td>\n",
              "      <td>3,00 - 3,49</td>\n",
              "      <td>TIDAK</td>\n",
              "      <td>TIDAK</td>\n",
              "      <td>Ya</td>\n",
              "      <td>TIDAK</td>\n",
              "      <td>TIDAK</td>\n",
              "      <td>Ya</td>\n",
              "      <td>Ya</td>\n",
              "    </tr>\n",
              "    <tr>\n",
              "      <th>2</th>\n",
              "      <td>Pria</td>\n",
              "      <td>19</td>\n",
              "      <td>Fisika</td>\n",
              "      <td>1</td>\n",
              "      <td>3,00 - 3,49</td>\n",
              "      <td>TIDAK</td>\n",
              "      <td>Ya</td>\n",
              "      <td>Ya</td>\n",
              "      <td>Ya</td>\n",
              "      <td>TIDAK</td>\n",
              "      <td>Ya</td>\n",
              "      <td>Ya</td>\n",
              "    </tr>\n",
              "    <tr>\n",
              "      <th>3</th>\n",
              "      <td>Perempuan</td>\n",
              "      <td>22</td>\n",
              "      <td>Hukum</td>\n",
              "      <td>3</td>\n",
              "      <td>3,00 - 3,49</td>\n",
              "      <td>Ya</td>\n",
              "      <td>Ya</td>\n",
              "      <td>TIDAK</td>\n",
              "      <td>TIDAK</td>\n",
              "      <td>TIDAK</td>\n",
              "      <td>Ya</td>\n",
              "      <td>Ya</td>\n",
              "    </tr>\n",
              "    <tr>\n",
              "      <th>4</th>\n",
              "      <td>Pria</td>\n",
              "      <td>23</td>\n",
              "      <td>Matematika</td>\n",
              "      <td>4</td>\n",
              "      <td>3,00 - 3,49</td>\n",
              "      <td>TIDAK</td>\n",
              "      <td>TIDAK</td>\n",
              "      <td>TIDAK</td>\n",
              "      <td>TIDAK</td>\n",
              "      <td>TIDAK</td>\n",
              "      <td>TIDAK</td>\n",
              "      <td>TIDAK</td>\n",
              "    </tr>\n",
              "    <tr>\n",
              "      <th>...</th>\n",
              "      <td>...</td>\n",
              "      <td>...</td>\n",
              "      <td>...</td>\n",
              "      <td>...</td>\n",
              "      <td>...</td>\n",
              "      <td>...</td>\n",
              "      <td>...</td>\n",
              "      <td>...</td>\n",
              "      <td>...</td>\n",
              "      <td>...</td>\n",
              "      <td>...</td>\n",
              "      <td>...</td>\n",
              "    </tr>\n",
              "    <tr>\n",
              "      <th>220</th>\n",
              "      <td>Perempuan</td>\n",
              "      <td>21</td>\n",
              "      <td>Ilmu Komputer</td>\n",
              "      <td>3</td>\n",
              "      <td>3,00 - 3,49</td>\n",
              "      <td>TIDAK</td>\n",
              "      <td>Ya</td>\n",
              "      <td>TIDAK</td>\n",
              "      <td>Ya</td>\n",
              "      <td>Ya</td>\n",
              "      <td>Ya</td>\n",
              "      <td>Ya</td>\n",
              "    </tr>\n",
              "    <tr>\n",
              "      <th>221</th>\n",
              "      <td>Perempuan</td>\n",
              "      <td>20</td>\n",
              "      <td>Manajemen</td>\n",
              "      <td>2</td>\n",
              "      <td>3,00 - 3,49</td>\n",
              "      <td>Ya</td>\n",
              "      <td>Ya</td>\n",
              "      <td>TIDAK</td>\n",
              "      <td>TIDAK</td>\n",
              "      <td>TIDAK</td>\n",
              "      <td>Ya</td>\n",
              "      <td>Ya</td>\n",
              "    </tr>\n",
              "    <tr>\n",
              "      <th>222</th>\n",
              "      <td>Pria</td>\n",
              "      <td>23</td>\n",
              "      <td>Biologi</td>\n",
              "      <td>4</td>\n",
              "      <td>3,50 - 4,00</td>\n",
              "      <td>Ya</td>\n",
              "      <td>TIDAK</td>\n",
              "      <td>TIDAK</td>\n",
              "      <td>TIDAK</td>\n",
              "      <td>TIDAK</td>\n",
              "      <td>Ya</td>\n",
              "      <td>TIDAK</td>\n",
              "    </tr>\n",
              "    <tr>\n",
              "      <th>223</th>\n",
              "      <td>Pria</td>\n",
              "      <td>21</td>\n",
              "      <td>Teknik Elektro</td>\n",
              "      <td>3</td>\n",
              "      <td>3,50 - 4,00</td>\n",
              "      <td>TIDAK</td>\n",
              "      <td>Ya</td>\n",
              "      <td>Ya</td>\n",
              "      <td>TIDAK</td>\n",
              "      <td>TIDAK</td>\n",
              "      <td>Ya</td>\n",
              "      <td>Ya</td>\n",
              "    </tr>\n",
              "    <tr>\n",
              "      <th>224</th>\n",
              "      <td>Pria</td>\n",
              "      <td>20</td>\n",
              "      <td>Teknik Mesin</td>\n",
              "      <td>2</td>\n",
              "      <td>3,00 - 3,49</td>\n",
              "      <td>TIDAK</td>\n",
              "      <td>TIDAK</td>\n",
              "      <td>TIDAK</td>\n",
              "      <td>TIDAK</td>\n",
              "      <td>TIDAK</td>\n",
              "      <td>TIDAK</td>\n",
              "      <td>TIDAK</td>\n",
              "    </tr>\n",
              "  </tbody>\n",
              "</table>\n",
              "<p>188 rows × 12 columns</p>\n",
              "</div>\n",
              "    <div class=\"colab-df-buttons\">\n",
              "\n",
              "  <div class=\"colab-df-container\">\n",
              "    <button class=\"colab-df-convert\" onclick=\"convertToInteractive('df-efb84646-1d1b-44e0-bb53-57cef6305bb0')\"\n",
              "            title=\"Convert this dataframe to an interactive table.\"\n",
              "            style=\"display:none;\">\n",
              "\n",
              "  <svg xmlns=\"http://www.w3.org/2000/svg\" height=\"24px\" viewBox=\"0 -960 960 960\">\n",
              "    <path d=\"M120-120v-720h720v720H120Zm60-500h600v-160H180v160Zm220 220h160v-160H400v160Zm0 220h160v-160H400v160ZM180-400h160v-160H180v160Zm440 0h160v-160H620v160ZM180-180h160v-160H180v160Zm440 0h160v-160H620v160Z\"/>\n",
              "  </svg>\n",
              "    </button>\n",
              "\n",
              "  <style>\n",
              "    .colab-df-container {\n",
              "      display:flex;\n",
              "      gap: 12px;\n",
              "    }\n",
              "\n",
              "    .colab-df-convert {\n",
              "      background-color: #E8F0FE;\n",
              "      border: none;\n",
              "      border-radius: 50%;\n",
              "      cursor: pointer;\n",
              "      display: none;\n",
              "      fill: #1967D2;\n",
              "      height: 32px;\n",
              "      padding: 0 0 0 0;\n",
              "      width: 32px;\n",
              "    }\n",
              "\n",
              "    .colab-df-convert:hover {\n",
              "      background-color: #E2EBFA;\n",
              "      box-shadow: 0px 1px 2px rgba(60, 64, 67, 0.3), 0px 1px 3px 1px rgba(60, 64, 67, 0.15);\n",
              "      fill: #174EA6;\n",
              "    }\n",
              "\n",
              "    .colab-df-buttons div {\n",
              "      margin-bottom: 4px;\n",
              "    }\n",
              "\n",
              "    [theme=dark] .colab-df-convert {\n",
              "      background-color: #3B4455;\n",
              "      fill: #D2E3FC;\n",
              "    }\n",
              "\n",
              "    [theme=dark] .colab-df-convert:hover {\n",
              "      background-color: #434B5C;\n",
              "      box-shadow: 0px 1px 3px 1px rgba(0, 0, 0, 0.15);\n",
              "      filter: drop-shadow(0px 1px 2px rgba(0, 0, 0, 0.3));\n",
              "      fill: #FFFFFF;\n",
              "    }\n",
              "  </style>\n",
              "\n",
              "    <script>\n",
              "      const buttonEl =\n",
              "        document.querySelector('#df-efb84646-1d1b-44e0-bb53-57cef6305bb0 button.colab-df-convert');\n",
              "      buttonEl.style.display =\n",
              "        google.colab.kernel.accessAllowed ? 'block' : 'none';\n",
              "\n",
              "      async function convertToInteractive(key) {\n",
              "        const element = document.querySelector('#df-efb84646-1d1b-44e0-bb53-57cef6305bb0');\n",
              "        const dataTable =\n",
              "          await google.colab.kernel.invokeFunction('convertToInteractive',\n",
              "                                                    [key], {});\n",
              "        if (!dataTable) return;\n",
              "\n",
              "        const docLinkHtml = 'Like what you see? Visit the ' +\n",
              "          '<a target=\"_blank\" href=https://colab.research.google.com/notebooks/data_table.ipynb>data table notebook</a>'\n",
              "          + ' to learn more about interactive tables.';\n",
              "        element.innerHTML = '';\n",
              "        dataTable['output_type'] = 'display_data';\n",
              "        await google.colab.output.renderOutput(dataTable, element);\n",
              "        const docLink = document.createElement('div');\n",
              "        docLink.innerHTML = docLinkHtml;\n",
              "        element.appendChild(docLink);\n",
              "      }\n",
              "    </script>\n",
              "  </div>\n",
              "\n",
              "\n",
              "<div id=\"df-f0164794-a94c-4f4f-affb-208faa40aaf1\">\n",
              "  <button class=\"colab-df-quickchart\" onclick=\"quickchart('df-f0164794-a94c-4f4f-affb-208faa40aaf1')\"\n",
              "            title=\"Suggest charts\"\n",
              "            style=\"display:none;\">\n",
              "\n",
              "<svg xmlns=\"http://www.w3.org/2000/svg\" height=\"24px\"viewBox=\"0 0 24 24\"\n",
              "     width=\"24px\">\n",
              "    <g>\n",
              "        <path d=\"M19 3H5c-1.1 0-2 .9-2 2v14c0 1.1.9 2 2 2h14c1.1 0 2-.9 2-2V5c0-1.1-.9-2-2-2zM9 17H7v-7h2v7zm4 0h-2V7h2v10zm4 0h-2v-4h2v4z\"/>\n",
              "    </g>\n",
              "</svg>\n",
              "  </button>\n",
              "\n",
              "<style>\n",
              "  .colab-df-quickchart {\n",
              "      --bg-color: #E8F0FE;\n",
              "      --fill-color: #1967D2;\n",
              "      --hover-bg-color: #E2EBFA;\n",
              "      --hover-fill-color: #174EA6;\n",
              "      --disabled-fill-color: #AAA;\n",
              "      --disabled-bg-color: #DDD;\n",
              "  }\n",
              "\n",
              "  [theme=dark] .colab-df-quickchart {\n",
              "      --bg-color: #3B4455;\n",
              "      --fill-color: #D2E3FC;\n",
              "      --hover-bg-color: #434B5C;\n",
              "      --hover-fill-color: #FFFFFF;\n",
              "      --disabled-bg-color: #3B4455;\n",
              "      --disabled-fill-color: #666;\n",
              "  }\n",
              "\n",
              "  .colab-df-quickchart {\n",
              "    background-color: var(--bg-color);\n",
              "    border: none;\n",
              "    border-radius: 50%;\n",
              "    cursor: pointer;\n",
              "    display: none;\n",
              "    fill: var(--fill-color);\n",
              "    height: 32px;\n",
              "    padding: 0;\n",
              "    width: 32px;\n",
              "  }\n",
              "\n",
              "  .colab-df-quickchart:hover {\n",
              "    background-color: var(--hover-bg-color);\n",
              "    box-shadow: 0 1px 2px rgba(60, 64, 67, 0.3), 0 1px 3px 1px rgba(60, 64, 67, 0.15);\n",
              "    fill: var(--button-hover-fill-color);\n",
              "  }\n",
              "\n",
              "  .colab-df-quickchart-complete:disabled,\n",
              "  .colab-df-quickchart-complete:disabled:hover {\n",
              "    background-color: var(--disabled-bg-color);\n",
              "    fill: var(--disabled-fill-color);\n",
              "    box-shadow: none;\n",
              "  }\n",
              "\n",
              "  .colab-df-spinner {\n",
              "    border: 2px solid var(--fill-color);\n",
              "    border-color: transparent;\n",
              "    border-bottom-color: var(--fill-color);\n",
              "    animation:\n",
              "      spin 1s steps(1) infinite;\n",
              "  }\n",
              "\n",
              "  @keyframes spin {\n",
              "    0% {\n",
              "      border-color: transparent;\n",
              "      border-bottom-color: var(--fill-color);\n",
              "      border-left-color: var(--fill-color);\n",
              "    }\n",
              "    20% {\n",
              "      border-color: transparent;\n",
              "      border-left-color: var(--fill-color);\n",
              "      border-top-color: var(--fill-color);\n",
              "    }\n",
              "    30% {\n",
              "      border-color: transparent;\n",
              "      border-left-color: var(--fill-color);\n",
              "      border-top-color: var(--fill-color);\n",
              "      border-right-color: var(--fill-color);\n",
              "    }\n",
              "    40% {\n",
              "      border-color: transparent;\n",
              "      border-right-color: var(--fill-color);\n",
              "      border-top-color: var(--fill-color);\n",
              "    }\n",
              "    60% {\n",
              "      border-color: transparent;\n",
              "      border-right-color: var(--fill-color);\n",
              "    }\n",
              "    80% {\n",
              "      border-color: transparent;\n",
              "      border-right-color: var(--fill-color);\n",
              "      border-bottom-color: var(--fill-color);\n",
              "    }\n",
              "    90% {\n",
              "      border-color: transparent;\n",
              "      border-bottom-color: var(--fill-color);\n",
              "    }\n",
              "  }\n",
              "</style>\n",
              "\n",
              "  <script>\n",
              "    async function quickchart(key) {\n",
              "      const quickchartButtonEl =\n",
              "        document.querySelector('#' + key + ' button');\n",
              "      quickchartButtonEl.disabled = true;  // To prevent multiple clicks.\n",
              "      quickchartButtonEl.classList.add('colab-df-spinner');\n",
              "      try {\n",
              "        const charts = await google.colab.kernel.invokeFunction(\n",
              "            'suggestCharts', [key], {});\n",
              "      } catch (error) {\n",
              "        console.error('Error during call to suggestCharts:', error);\n",
              "      }\n",
              "      quickchartButtonEl.classList.remove('colab-df-spinner');\n",
              "      quickchartButtonEl.classList.add('colab-df-quickchart-complete');\n",
              "    }\n",
              "    (() => {\n",
              "      let quickchartButtonEl =\n",
              "        document.querySelector('#df-f0164794-a94c-4f4f-affb-208faa40aaf1 button');\n",
              "      quickchartButtonEl.style.display =\n",
              "        google.colab.kernel.accessAllowed ? 'block' : 'none';\n",
              "    })();\n",
              "  </script>\n",
              "</div>\n",
              "    </div>\n",
              "  </div>\n"
            ],
            "application/vnd.google.colaboratory.intrinsic+json": {
              "type": "dataframe",
              "variable_name": "df",
              "summary": "{\n  \"name\": \"df\",\n  \"rows\": 188,\n  \"fields\": [\n    {\n      \"column\": \"Jenis Kelamin\",\n      \"properties\": {\n        \"dtype\": \"category\",\n        \"num_unique_values\": 2,\n        \"samples\": [\n          \"Pria\",\n          \"Perempuan\"\n        ],\n        \"semantic_type\": \"\",\n        \"description\": \"\"\n      }\n    },\n    {\n      \"column\": \"Umur\",\n      \"properties\": {\n        \"dtype\": \"number\",\n        \"std\": 2,\n        \"min\": 18,\n        \"max\": 24,\n        \"num_unique_values\": 7,\n        \"samples\": [\n          18,\n          21\n        ],\n        \"semantic_type\": \"\",\n        \"description\": \"\"\n      }\n    },\n    {\n      \"column\": \"Jurusan\",\n      \"properties\": {\n        \"dtype\": \"category\",\n        \"num_unique_values\": 52,\n        \"samples\": [\n          \"Ilmu biomedis\",\n          \"Kedokteran Gigi\"\n        ],\n        \"semantic_type\": \"\",\n        \"description\": \"\"\n      }\n    },\n    {\n      \"column\": \"Tahun Studi\",\n      \"properties\": {\n        \"dtype\": \"number\",\n        \"std\": 1,\n        \"min\": 1,\n        \"max\": 6,\n        \"num_unique_values\": 6,\n        \"samples\": [\n          1,\n          2\n        ],\n        \"semantic_type\": \"\",\n        \"description\": \"\"\n      }\n    },\n    {\n      \"column\": \"IPK\",\n      \"properties\": {\n        \"dtype\": \"category\",\n        \"num_unique_values\": 5,\n        \"samples\": [\n          \"3,50 - 4,00\",\n          \"0 - 1,99\"\n        ],\n        \"semantic_type\": \"\",\n        \"description\": \"\"\n      }\n    },\n    {\n      \"column\": \"Sudah Menikah?\",\n      \"properties\": {\n        \"dtype\": \"category\",\n        \"num_unique_values\": 2,\n        \"samples\": [\n          \"Ya\",\n          \"TIDAK\"\n        ],\n        \"semantic_type\": \"\",\n        \"description\": \"\"\n      }\n    },\n    {\n      \"column\": \"Sedang Depresi?\",\n      \"properties\": {\n        \"dtype\": \"category\",\n        \"num_unique_values\": 2,\n        \"samples\": [\n          \"TIDAK\",\n          \"Ya\"\n        ],\n        \"semantic_type\": \"\",\n        \"description\": \"\"\n      }\n    },\n    {\n      \"column\": \"Sedang Cemas?\",\n      \"properties\": {\n        \"dtype\": \"category\",\n        \"num_unique_values\": 2,\n        \"samples\": [\n          \"Ya\",\n          \"TIDAK\"\n        ],\n        \"semantic_type\": \"\",\n        \"description\": \"\"\n      }\n    },\n    {\n      \"column\": \"Sedang Panik?\",\n      \"properties\": {\n        \"dtype\": \"category\",\n        \"num_unique_values\": 2,\n        \"samples\": [\n          \"TIDAK\",\n          \"Ya\"\n        ],\n        \"semantic_type\": \"\",\n        \"description\": \"\"\n      }\n    },\n    {\n      \"column\": \"Sedang Menjalani Perawatan?\",\n      \"properties\": {\n        \"dtype\": \"category\",\n        \"num_unique_values\": 2,\n        \"samples\": [\n          \"Ya\",\n          \"TIDAK\"\n        ],\n        \"semantic_type\": \"\",\n        \"description\": \"\"\n      }\n    },\n    {\n      \"column\": \"Stres Status\",\n      \"properties\": {\n        \"dtype\": \"category\",\n        \"num_unique_values\": 2,\n        \"samples\": [\n          \"TIDAK\",\n          \"Ya\"\n        ],\n        \"semantic_type\": \"\",\n        \"description\": \"\"\n      }\n    },\n    {\n      \"column\": \"Memiliki Kondisi?\",\n      \"properties\": {\n        \"dtype\": \"category\",\n        \"num_unique_values\": 2,\n        \"samples\": [\n          \"TIDAK\",\n          \"Ya\"\n        ],\n        \"semantic_type\": \"\",\n        \"description\": \"\"\n      }\n    }\n  ]\n}"
            }
          },
          "metadata": {},
          "execution_count": 18
        }
      ]
    },
    {
      "cell_type": "markdown",
      "source": [
        "Membuat kolom baru bernama Kondisi.\n",
        "\n",
        "Untuk setiap kondisi (Mengalami Depresi, Mengalami Kecemasan, atau Mengalami Serangan Panik) yang dialami siswa, sebuah huruf (A = Kecemasan, D = Depresi, dan P = Serangan Panik) ditambahkan ke kolom Kondisi sehingga memudahkan untuk melacak dan memfilter data."
      ],
      "metadata": {
        "id": "anAkvJ9GMdlj"
      }
    },
    {
      "cell_type": "code",
      "source": [
        "df['Kondisi'] = ''\n",
        "df.loc[anxiety_filter, 'Kondisi'] += 'A'\n",
        "df.loc[depressed_filter, 'Kondisi'] += 'D'\n",
        "df.loc[panicking_filter, 'Kondisi'] += 'P'\n",
        "df.loc[no_conditions_filter, 'Kondisi'] += 'None'\n",
        "# df['Condition'].unique()\n",
        "\n",
        "df"
      ],
      "metadata": {
        "colab": {
          "base_uri": "https://localhost:8080/",
          "height": 615
        },
        "id": "K9yCuoPJMhq9",
        "outputId": "19b49f8e-319f-41b0-aa74-f7c628cb28e9"
      },
      "execution_count": 19,
      "outputs": [
        {
          "output_type": "execute_result",
          "data": {
            "text/plain": [
              "    Jenis Kelamin  Umur                 Jurusan  Tahun Studi          IPK  \\\n",
              "0       Perempuan    18            Teknik Mesin            1  3,00 - 3,49   \n",
              "1            Pria    21  Pendidikan Agama Islam            2  3,00 - 3,49   \n",
              "2            Pria    19                  Fisika            1  3,00 - 3,49   \n",
              "3       Perempuan    22                   Hukum            3  3,00 - 3,49   \n",
              "4            Pria    23              Matematika            4  3,00 - 3,49   \n",
              "..            ...   ...                     ...          ...          ...   \n",
              "220     Perempuan    21           Ilmu Komputer            3  3,00 - 3,49   \n",
              "221     Perempuan    20               Manajemen            2  3,00 - 3,49   \n",
              "222          Pria    23                 Biologi            4  3,50 - 4,00   \n",
              "223          Pria    21          Teknik Elektro            3  3,50 - 4,00   \n",
              "224          Pria    20            Teknik Mesin            2  3,00 - 3,49   \n",
              "\n",
              "    Sudah Menikah? Sedang Depresi? Sedang Cemas? Sedang Panik?  \\\n",
              "0            TIDAK              Ya         TIDAK            Ya   \n",
              "1            TIDAK           TIDAK            Ya         TIDAK   \n",
              "2            TIDAK              Ya            Ya            Ya   \n",
              "3               Ya              Ya         TIDAK         TIDAK   \n",
              "4            TIDAK           TIDAK         TIDAK         TIDAK   \n",
              "..             ...             ...           ...           ...   \n",
              "220          TIDAK              Ya         TIDAK            Ya   \n",
              "221             Ya              Ya         TIDAK         TIDAK   \n",
              "222             Ya           TIDAK         TIDAK         TIDAK   \n",
              "223          TIDAK              Ya            Ya         TIDAK   \n",
              "224          TIDAK           TIDAK         TIDAK         TIDAK   \n",
              "\n",
              "    Sedang Menjalani Perawatan? Stres Status Memiliki Kondisi? Kondisi  \n",
              "0                         TIDAK           Ya                Ya      DP  \n",
              "1                         TIDAK           Ya                Ya       A  \n",
              "2                         TIDAK           Ya                Ya     ADP  \n",
              "3                         TIDAK           Ya                Ya       D  \n",
              "4                         TIDAK        TIDAK             TIDAK    None  \n",
              "..                          ...          ...               ...     ...  \n",
              "220                          Ya           Ya                Ya      DP  \n",
              "221                       TIDAK           Ya                Ya       D  \n",
              "222                       TIDAK           Ya             TIDAK    None  \n",
              "223                       TIDAK           Ya                Ya      AD  \n",
              "224                       TIDAK        TIDAK             TIDAK    None  \n",
              "\n",
              "[188 rows x 13 columns]"
            ],
            "text/html": [
              "\n",
              "  <div id=\"df-0bdbfe64-223c-452d-8ff4-2b1de22c40d4\" class=\"colab-df-container\">\n",
              "    <div>\n",
              "<style scoped>\n",
              "    .dataframe tbody tr th:only-of-type {\n",
              "        vertical-align: middle;\n",
              "    }\n",
              "\n",
              "    .dataframe tbody tr th {\n",
              "        vertical-align: top;\n",
              "    }\n",
              "\n",
              "    .dataframe thead th {\n",
              "        text-align: right;\n",
              "    }\n",
              "</style>\n",
              "<table border=\"1\" class=\"dataframe\">\n",
              "  <thead>\n",
              "    <tr style=\"text-align: right;\">\n",
              "      <th></th>\n",
              "      <th>Jenis Kelamin</th>\n",
              "      <th>Umur</th>\n",
              "      <th>Jurusan</th>\n",
              "      <th>Tahun Studi</th>\n",
              "      <th>IPK</th>\n",
              "      <th>Sudah Menikah?</th>\n",
              "      <th>Sedang Depresi?</th>\n",
              "      <th>Sedang Cemas?</th>\n",
              "      <th>Sedang Panik?</th>\n",
              "      <th>Sedang Menjalani Perawatan?</th>\n",
              "      <th>Stres Status</th>\n",
              "      <th>Memiliki Kondisi?</th>\n",
              "      <th>Kondisi</th>\n",
              "    </tr>\n",
              "  </thead>\n",
              "  <tbody>\n",
              "    <tr>\n",
              "      <th>0</th>\n",
              "      <td>Perempuan</td>\n",
              "      <td>18</td>\n",
              "      <td>Teknik Mesin</td>\n",
              "      <td>1</td>\n",
              "      <td>3,00 - 3,49</td>\n",
              "      <td>TIDAK</td>\n",
              "      <td>Ya</td>\n",
              "      <td>TIDAK</td>\n",
              "      <td>Ya</td>\n",
              "      <td>TIDAK</td>\n",
              "      <td>Ya</td>\n",
              "      <td>Ya</td>\n",
              "      <td>DP</td>\n",
              "    </tr>\n",
              "    <tr>\n",
              "      <th>1</th>\n",
              "      <td>Pria</td>\n",
              "      <td>21</td>\n",
              "      <td>Pendidikan Agama Islam</td>\n",
              "      <td>2</td>\n",
              "      <td>3,00 - 3,49</td>\n",
              "      <td>TIDAK</td>\n",
              "      <td>TIDAK</td>\n",
              "      <td>Ya</td>\n",
              "      <td>TIDAK</td>\n",
              "      <td>TIDAK</td>\n",
              "      <td>Ya</td>\n",
              "      <td>Ya</td>\n",
              "      <td>A</td>\n",
              "    </tr>\n",
              "    <tr>\n",
              "      <th>2</th>\n",
              "      <td>Pria</td>\n",
              "      <td>19</td>\n",
              "      <td>Fisika</td>\n",
              "      <td>1</td>\n",
              "      <td>3,00 - 3,49</td>\n",
              "      <td>TIDAK</td>\n",
              "      <td>Ya</td>\n",
              "      <td>Ya</td>\n",
              "      <td>Ya</td>\n",
              "      <td>TIDAK</td>\n",
              "      <td>Ya</td>\n",
              "      <td>Ya</td>\n",
              "      <td>ADP</td>\n",
              "    </tr>\n",
              "    <tr>\n",
              "      <th>3</th>\n",
              "      <td>Perempuan</td>\n",
              "      <td>22</td>\n",
              "      <td>Hukum</td>\n",
              "      <td>3</td>\n",
              "      <td>3,00 - 3,49</td>\n",
              "      <td>Ya</td>\n",
              "      <td>Ya</td>\n",
              "      <td>TIDAK</td>\n",
              "      <td>TIDAK</td>\n",
              "      <td>TIDAK</td>\n",
              "      <td>Ya</td>\n",
              "      <td>Ya</td>\n",
              "      <td>D</td>\n",
              "    </tr>\n",
              "    <tr>\n",
              "      <th>4</th>\n",
              "      <td>Pria</td>\n",
              "      <td>23</td>\n",
              "      <td>Matematika</td>\n",
              "      <td>4</td>\n",
              "      <td>3,00 - 3,49</td>\n",
              "      <td>TIDAK</td>\n",
              "      <td>TIDAK</td>\n",
              "      <td>TIDAK</td>\n",
              "      <td>TIDAK</td>\n",
              "      <td>TIDAK</td>\n",
              "      <td>TIDAK</td>\n",
              "      <td>TIDAK</td>\n",
              "      <td>None</td>\n",
              "    </tr>\n",
              "    <tr>\n",
              "      <th>...</th>\n",
              "      <td>...</td>\n",
              "      <td>...</td>\n",
              "      <td>...</td>\n",
              "      <td>...</td>\n",
              "      <td>...</td>\n",
              "      <td>...</td>\n",
              "      <td>...</td>\n",
              "      <td>...</td>\n",
              "      <td>...</td>\n",
              "      <td>...</td>\n",
              "      <td>...</td>\n",
              "      <td>...</td>\n",
              "      <td>...</td>\n",
              "    </tr>\n",
              "    <tr>\n",
              "      <th>220</th>\n",
              "      <td>Perempuan</td>\n",
              "      <td>21</td>\n",
              "      <td>Ilmu Komputer</td>\n",
              "      <td>3</td>\n",
              "      <td>3,00 - 3,49</td>\n",
              "      <td>TIDAK</td>\n",
              "      <td>Ya</td>\n",
              "      <td>TIDAK</td>\n",
              "      <td>Ya</td>\n",
              "      <td>Ya</td>\n",
              "      <td>Ya</td>\n",
              "      <td>Ya</td>\n",
              "      <td>DP</td>\n",
              "    </tr>\n",
              "    <tr>\n",
              "      <th>221</th>\n",
              "      <td>Perempuan</td>\n",
              "      <td>20</td>\n",
              "      <td>Manajemen</td>\n",
              "      <td>2</td>\n",
              "      <td>3,00 - 3,49</td>\n",
              "      <td>Ya</td>\n",
              "      <td>Ya</td>\n",
              "      <td>TIDAK</td>\n",
              "      <td>TIDAK</td>\n",
              "      <td>TIDAK</td>\n",
              "      <td>Ya</td>\n",
              "      <td>Ya</td>\n",
              "      <td>D</td>\n",
              "    </tr>\n",
              "    <tr>\n",
              "      <th>222</th>\n",
              "      <td>Pria</td>\n",
              "      <td>23</td>\n",
              "      <td>Biologi</td>\n",
              "      <td>4</td>\n",
              "      <td>3,50 - 4,00</td>\n",
              "      <td>Ya</td>\n",
              "      <td>TIDAK</td>\n",
              "      <td>TIDAK</td>\n",
              "      <td>TIDAK</td>\n",
              "      <td>TIDAK</td>\n",
              "      <td>Ya</td>\n",
              "      <td>TIDAK</td>\n",
              "      <td>None</td>\n",
              "    </tr>\n",
              "    <tr>\n",
              "      <th>223</th>\n",
              "      <td>Pria</td>\n",
              "      <td>21</td>\n",
              "      <td>Teknik Elektro</td>\n",
              "      <td>3</td>\n",
              "      <td>3,50 - 4,00</td>\n",
              "      <td>TIDAK</td>\n",
              "      <td>Ya</td>\n",
              "      <td>Ya</td>\n",
              "      <td>TIDAK</td>\n",
              "      <td>TIDAK</td>\n",
              "      <td>Ya</td>\n",
              "      <td>Ya</td>\n",
              "      <td>AD</td>\n",
              "    </tr>\n",
              "    <tr>\n",
              "      <th>224</th>\n",
              "      <td>Pria</td>\n",
              "      <td>20</td>\n",
              "      <td>Teknik Mesin</td>\n",
              "      <td>2</td>\n",
              "      <td>3,00 - 3,49</td>\n",
              "      <td>TIDAK</td>\n",
              "      <td>TIDAK</td>\n",
              "      <td>TIDAK</td>\n",
              "      <td>TIDAK</td>\n",
              "      <td>TIDAK</td>\n",
              "      <td>TIDAK</td>\n",
              "      <td>TIDAK</td>\n",
              "      <td>None</td>\n",
              "    </tr>\n",
              "  </tbody>\n",
              "</table>\n",
              "<p>188 rows × 13 columns</p>\n",
              "</div>\n",
              "    <div class=\"colab-df-buttons\">\n",
              "\n",
              "  <div class=\"colab-df-container\">\n",
              "    <button class=\"colab-df-convert\" onclick=\"convertToInteractive('df-0bdbfe64-223c-452d-8ff4-2b1de22c40d4')\"\n",
              "            title=\"Convert this dataframe to an interactive table.\"\n",
              "            style=\"display:none;\">\n",
              "\n",
              "  <svg xmlns=\"http://www.w3.org/2000/svg\" height=\"24px\" viewBox=\"0 -960 960 960\">\n",
              "    <path d=\"M120-120v-720h720v720H120Zm60-500h600v-160H180v160Zm220 220h160v-160H400v160Zm0 220h160v-160H400v160ZM180-400h160v-160H180v160Zm440 0h160v-160H620v160ZM180-180h160v-160H180v160Zm440 0h160v-160H620v160Z\"/>\n",
              "  </svg>\n",
              "    </button>\n",
              "\n",
              "  <style>\n",
              "    .colab-df-container {\n",
              "      display:flex;\n",
              "      gap: 12px;\n",
              "    }\n",
              "\n",
              "    .colab-df-convert {\n",
              "      background-color: #E8F0FE;\n",
              "      border: none;\n",
              "      border-radius: 50%;\n",
              "      cursor: pointer;\n",
              "      display: none;\n",
              "      fill: #1967D2;\n",
              "      height: 32px;\n",
              "      padding: 0 0 0 0;\n",
              "      width: 32px;\n",
              "    }\n",
              "\n",
              "    .colab-df-convert:hover {\n",
              "      background-color: #E2EBFA;\n",
              "      box-shadow: 0px 1px 2px rgba(60, 64, 67, 0.3), 0px 1px 3px 1px rgba(60, 64, 67, 0.15);\n",
              "      fill: #174EA6;\n",
              "    }\n",
              "\n",
              "    .colab-df-buttons div {\n",
              "      margin-bottom: 4px;\n",
              "    }\n",
              "\n",
              "    [theme=dark] .colab-df-convert {\n",
              "      background-color: #3B4455;\n",
              "      fill: #D2E3FC;\n",
              "    }\n",
              "\n",
              "    [theme=dark] .colab-df-convert:hover {\n",
              "      background-color: #434B5C;\n",
              "      box-shadow: 0px 1px 3px 1px rgba(0, 0, 0, 0.15);\n",
              "      filter: drop-shadow(0px 1px 2px rgba(0, 0, 0, 0.3));\n",
              "      fill: #FFFFFF;\n",
              "    }\n",
              "  </style>\n",
              "\n",
              "    <script>\n",
              "      const buttonEl =\n",
              "        document.querySelector('#df-0bdbfe64-223c-452d-8ff4-2b1de22c40d4 button.colab-df-convert');\n",
              "      buttonEl.style.display =\n",
              "        google.colab.kernel.accessAllowed ? 'block' : 'none';\n",
              "\n",
              "      async function convertToInteractive(key) {\n",
              "        const element = document.querySelector('#df-0bdbfe64-223c-452d-8ff4-2b1de22c40d4');\n",
              "        const dataTable =\n",
              "          await google.colab.kernel.invokeFunction('convertToInteractive',\n",
              "                                                    [key], {});\n",
              "        if (!dataTable) return;\n",
              "\n",
              "        const docLinkHtml = 'Like what you see? Visit the ' +\n",
              "          '<a target=\"_blank\" href=https://colab.research.google.com/notebooks/data_table.ipynb>data table notebook</a>'\n",
              "          + ' to learn more about interactive tables.';\n",
              "        element.innerHTML = '';\n",
              "        dataTable['output_type'] = 'display_data';\n",
              "        await google.colab.output.renderOutput(dataTable, element);\n",
              "        const docLink = document.createElement('div');\n",
              "        docLink.innerHTML = docLinkHtml;\n",
              "        element.appendChild(docLink);\n",
              "      }\n",
              "    </script>\n",
              "  </div>\n",
              "\n",
              "\n",
              "<div id=\"df-38386d1a-031c-459b-9a26-f76bd9a239a7\">\n",
              "  <button class=\"colab-df-quickchart\" onclick=\"quickchart('df-38386d1a-031c-459b-9a26-f76bd9a239a7')\"\n",
              "            title=\"Suggest charts\"\n",
              "            style=\"display:none;\">\n",
              "\n",
              "<svg xmlns=\"http://www.w3.org/2000/svg\" height=\"24px\"viewBox=\"0 0 24 24\"\n",
              "     width=\"24px\">\n",
              "    <g>\n",
              "        <path d=\"M19 3H5c-1.1 0-2 .9-2 2v14c0 1.1.9 2 2 2h14c1.1 0 2-.9 2-2V5c0-1.1-.9-2-2-2zM9 17H7v-7h2v7zm4 0h-2V7h2v10zm4 0h-2v-4h2v4z\"/>\n",
              "    </g>\n",
              "</svg>\n",
              "  </button>\n",
              "\n",
              "<style>\n",
              "  .colab-df-quickchart {\n",
              "      --bg-color: #E8F0FE;\n",
              "      --fill-color: #1967D2;\n",
              "      --hover-bg-color: #E2EBFA;\n",
              "      --hover-fill-color: #174EA6;\n",
              "      --disabled-fill-color: #AAA;\n",
              "      --disabled-bg-color: #DDD;\n",
              "  }\n",
              "\n",
              "  [theme=dark] .colab-df-quickchart {\n",
              "      --bg-color: #3B4455;\n",
              "      --fill-color: #D2E3FC;\n",
              "      --hover-bg-color: #434B5C;\n",
              "      --hover-fill-color: #FFFFFF;\n",
              "      --disabled-bg-color: #3B4455;\n",
              "      --disabled-fill-color: #666;\n",
              "  }\n",
              "\n",
              "  .colab-df-quickchart {\n",
              "    background-color: var(--bg-color);\n",
              "    border: none;\n",
              "    border-radius: 50%;\n",
              "    cursor: pointer;\n",
              "    display: none;\n",
              "    fill: var(--fill-color);\n",
              "    height: 32px;\n",
              "    padding: 0;\n",
              "    width: 32px;\n",
              "  }\n",
              "\n",
              "  .colab-df-quickchart:hover {\n",
              "    background-color: var(--hover-bg-color);\n",
              "    box-shadow: 0 1px 2px rgba(60, 64, 67, 0.3), 0 1px 3px 1px rgba(60, 64, 67, 0.15);\n",
              "    fill: var(--button-hover-fill-color);\n",
              "  }\n",
              "\n",
              "  .colab-df-quickchart-complete:disabled,\n",
              "  .colab-df-quickchart-complete:disabled:hover {\n",
              "    background-color: var(--disabled-bg-color);\n",
              "    fill: var(--disabled-fill-color);\n",
              "    box-shadow: none;\n",
              "  }\n",
              "\n",
              "  .colab-df-spinner {\n",
              "    border: 2px solid var(--fill-color);\n",
              "    border-color: transparent;\n",
              "    border-bottom-color: var(--fill-color);\n",
              "    animation:\n",
              "      spin 1s steps(1) infinite;\n",
              "  }\n",
              "\n",
              "  @keyframes spin {\n",
              "    0% {\n",
              "      border-color: transparent;\n",
              "      border-bottom-color: var(--fill-color);\n",
              "      border-left-color: var(--fill-color);\n",
              "    }\n",
              "    20% {\n",
              "      border-color: transparent;\n",
              "      border-left-color: var(--fill-color);\n",
              "      border-top-color: var(--fill-color);\n",
              "    }\n",
              "    30% {\n",
              "      border-color: transparent;\n",
              "      border-left-color: var(--fill-color);\n",
              "      border-top-color: var(--fill-color);\n",
              "      border-right-color: var(--fill-color);\n",
              "    }\n",
              "    40% {\n",
              "      border-color: transparent;\n",
              "      border-right-color: var(--fill-color);\n",
              "      border-top-color: var(--fill-color);\n",
              "    }\n",
              "    60% {\n",
              "      border-color: transparent;\n",
              "      border-right-color: var(--fill-color);\n",
              "    }\n",
              "    80% {\n",
              "      border-color: transparent;\n",
              "      border-right-color: var(--fill-color);\n",
              "      border-bottom-color: var(--fill-color);\n",
              "    }\n",
              "    90% {\n",
              "      border-color: transparent;\n",
              "      border-bottom-color: var(--fill-color);\n",
              "    }\n",
              "  }\n",
              "</style>\n",
              "\n",
              "  <script>\n",
              "    async function quickchart(key) {\n",
              "      const quickchartButtonEl =\n",
              "        document.querySelector('#' + key + ' button');\n",
              "      quickchartButtonEl.disabled = true;  // To prevent multiple clicks.\n",
              "      quickchartButtonEl.classList.add('colab-df-spinner');\n",
              "      try {\n",
              "        const charts = await google.colab.kernel.invokeFunction(\n",
              "            'suggestCharts', [key], {});\n",
              "      } catch (error) {\n",
              "        console.error('Error during call to suggestCharts:', error);\n",
              "      }\n",
              "      quickchartButtonEl.classList.remove('colab-df-spinner');\n",
              "      quickchartButtonEl.classList.add('colab-df-quickchart-complete');\n",
              "    }\n",
              "    (() => {\n",
              "      let quickchartButtonEl =\n",
              "        document.querySelector('#df-38386d1a-031c-459b-9a26-f76bd9a239a7 button');\n",
              "      quickchartButtonEl.style.display =\n",
              "        google.colab.kernel.accessAllowed ? 'block' : 'none';\n",
              "    })();\n",
              "  </script>\n",
              "</div>\n",
              "    </div>\n",
              "  </div>\n"
            ],
            "application/vnd.google.colaboratory.intrinsic+json": {
              "type": "dataframe",
              "variable_name": "df",
              "summary": "{\n  \"name\": \"df\",\n  \"rows\": 188,\n  \"fields\": [\n    {\n      \"column\": \"Jenis Kelamin\",\n      \"properties\": {\n        \"dtype\": \"category\",\n        \"num_unique_values\": 2,\n        \"samples\": [\n          \"Pria\",\n          \"Perempuan\"\n        ],\n        \"semantic_type\": \"\",\n        \"description\": \"\"\n      }\n    },\n    {\n      \"column\": \"Umur\",\n      \"properties\": {\n        \"dtype\": \"number\",\n        \"std\": 2,\n        \"min\": 18,\n        \"max\": 24,\n        \"num_unique_values\": 7,\n        \"samples\": [\n          18,\n          21\n        ],\n        \"semantic_type\": \"\",\n        \"description\": \"\"\n      }\n    },\n    {\n      \"column\": \"Jurusan\",\n      \"properties\": {\n        \"dtype\": \"category\",\n        \"num_unique_values\": 52,\n        \"samples\": [\n          \"Ilmu biomedis\",\n          \"Kedokteran Gigi\"\n        ],\n        \"semantic_type\": \"\",\n        \"description\": \"\"\n      }\n    },\n    {\n      \"column\": \"Tahun Studi\",\n      \"properties\": {\n        \"dtype\": \"number\",\n        \"std\": 1,\n        \"min\": 1,\n        \"max\": 6,\n        \"num_unique_values\": 6,\n        \"samples\": [\n          1,\n          2\n        ],\n        \"semantic_type\": \"\",\n        \"description\": \"\"\n      }\n    },\n    {\n      \"column\": \"IPK\",\n      \"properties\": {\n        \"dtype\": \"category\",\n        \"num_unique_values\": 5,\n        \"samples\": [\n          \"3,50 - 4,00\",\n          \"0 - 1,99\"\n        ],\n        \"semantic_type\": \"\",\n        \"description\": \"\"\n      }\n    },\n    {\n      \"column\": \"Sudah Menikah?\",\n      \"properties\": {\n        \"dtype\": \"category\",\n        \"num_unique_values\": 2,\n        \"samples\": [\n          \"Ya\",\n          \"TIDAK\"\n        ],\n        \"semantic_type\": \"\",\n        \"description\": \"\"\n      }\n    },\n    {\n      \"column\": \"Sedang Depresi?\",\n      \"properties\": {\n        \"dtype\": \"category\",\n        \"num_unique_values\": 2,\n        \"samples\": [\n          \"TIDAK\",\n          \"Ya\"\n        ],\n        \"semantic_type\": \"\",\n        \"description\": \"\"\n      }\n    },\n    {\n      \"column\": \"Sedang Cemas?\",\n      \"properties\": {\n        \"dtype\": \"category\",\n        \"num_unique_values\": 2,\n        \"samples\": [\n          \"Ya\",\n          \"TIDAK\"\n        ],\n        \"semantic_type\": \"\",\n        \"description\": \"\"\n      }\n    },\n    {\n      \"column\": \"Sedang Panik?\",\n      \"properties\": {\n        \"dtype\": \"category\",\n        \"num_unique_values\": 2,\n        \"samples\": [\n          \"TIDAK\",\n          \"Ya\"\n        ],\n        \"semantic_type\": \"\",\n        \"description\": \"\"\n      }\n    },\n    {\n      \"column\": \"Sedang Menjalani Perawatan?\",\n      \"properties\": {\n        \"dtype\": \"category\",\n        \"num_unique_values\": 2,\n        \"samples\": [\n          \"Ya\",\n          \"TIDAK\"\n        ],\n        \"semantic_type\": \"\",\n        \"description\": \"\"\n      }\n    },\n    {\n      \"column\": \"Stres Status\",\n      \"properties\": {\n        \"dtype\": \"category\",\n        \"num_unique_values\": 2,\n        \"samples\": [\n          \"TIDAK\",\n          \"Ya\"\n        ],\n        \"semantic_type\": \"\",\n        \"description\": \"\"\n      }\n    },\n    {\n      \"column\": \"Memiliki Kondisi?\",\n      \"properties\": {\n        \"dtype\": \"category\",\n        \"num_unique_values\": 2,\n        \"samples\": [\n          \"TIDAK\",\n          \"Ya\"\n        ],\n        \"semantic_type\": \"\",\n        \"description\": \"\"\n      }\n    },\n    {\n      \"column\": \"Kondisi\",\n      \"properties\": {\n        \"dtype\": \"category\",\n        \"num_unique_values\": 8,\n        \"samples\": [\n          \"A\",\n          \"P\"\n        ],\n        \"semantic_type\": \"\",\n        \"description\": \"\"\n      }\n    }\n  ]\n}"
            }
          },
          "metadata": {},
          "execution_count": 19
        }
      ]
    },
    {
      "cell_type": "markdown",
      "source": [
        "## Data Visualization"
      ],
      "metadata": {
        "id": "5EZWWZKR6UuZ"
      }
    },
    {
      "cell_type": "markdown",
      "source": [
        "Distribusi Gender - Visualisasikan distribusi gender di kalangan siswa"
      ],
      "metadata": {
        "id": "cwHSVJSuMyA6"
      }
    },
    {
      "cell_type": "code",
      "source": [
        "labels = df['Jenis Kelamin'].value_counts().index\n",
        "\n",
        "plt.pie(df['Jenis Kelamin'].value_counts(),labels=labels, autopct='%1.1f%%',startangle=180, explode=(0.005,0.005))\n",
        "plt.axis('equal')\n",
        "plt.title('Siswa per Gender', fontsize=12, fontweight='bold', pad=20)\n",
        "plt.show()"
      ],
      "metadata": {
        "colab": {
          "base_uri": "https://localhost:8080/",
          "height": 448
        },
        "id": "v-Aa6uMAMyvf",
        "outputId": "c79683fe-8df0-406c-805e-ac844d95045f"
      },
      "execution_count": 20,
      "outputs": [
        {
          "output_type": "display_data",
          "data": {
            "text/plain": [
              "<Figure size 640x480 with 1 Axes>"
            ],
            "image/png": "[encoded data removed]"
          },
          "metadata": {}
        }
      ]
    },
    {
      "cell_type": "markdown",
      "source": [
        "Siswa berdasarkan Tahun Studi"
      ],
      "metadata": {
        "id": "iXG4a9OUNFzg"
      }
    },
    {
      "cell_type": "code",
      "source": [
        "sns.countplot(data=df, x='Tahun Studi').set(xlabel=None, ylabel='Siswa')\n",
        "plt.title('Siswa berdasarkan Tahun Studi', fontsize=12, fontweight='bold', pad=20)\n",
        "sns.color_palette(\"pastel\")\n",
        "\n",
        "plt.show()"
      ],
      "metadata": {
        "colab": {
          "base_uri": "https://localhost:8080/",
          "height": 472
        },
        "id": "B2z8xes4NG3l",
        "outputId": "a55da6c5-8e62-4e96-81a5-4ca85f558c4c"
      },
      "execution_count": 21,
      "outputs": [
        {
          "output_type": "display_data",
          "data": {
            "text/plain": [
              "<Figure size 640x480 with 1 Axes>"
            ],
            "image/png": "[encoded data removed]"
          },
          "metadata": {}
        }
      ]
    },
    {
      "cell_type": "markdown",
      "source": [
        "Siswa menurut IPK"
      ],
      "metadata": {
        "id": "cjSigHpdNcuV"
      }
    },
    {
      "cell_type": "code",
      "source": [
        "sns.histplot(df['IPK'].sort_values(), kde=True)\n",
        "plt.xlabel('Rentang IPK')\n",
        "plt.ylabel('Siswa')\n",
        "plt.title('Distribusi IPK', fontsize=12, fontweight='bold', pad=20)\n",
        "plt.show()"
      ],
      "metadata": {
        "colab": {
          "base_uri": "https://localhost:8080/",
          "height": 491
        },
        "id": "wIrflgTHNdaN",
        "outputId": "042a89e2-1f2d-4e4f-b158-759a616e1e04"
      },
      "execution_count": 22,
      "outputs": [
        {
          "output_type": "display_data",
          "data": {
            "text/plain": [
              "<Figure size 640x480 with 1 Axes>"
            ],
            "image/png": "[encoded data removed]"
          },
          "metadata": {}
        }
      ]
    },
    {
      "cell_type": "markdown",
      "source": [
        "Siswa berdasarkan Usia"
      ],
      "metadata": {
        "id": "RBWcup_HN2pd"
      }
    },
    {
      "cell_type": "code",
      "source": [
        "sns.countplot(data=df, x='Umur')\n",
        "plt.xlabel('Umur')\n",
        "plt.ylabel('Siswa')\n",
        "plt.title('Distribusi Usia', fontsize=12, fontweight='bold', pad=20)\n",
        "\n",
        "plt.show()"
      ],
      "metadata": {
        "colab": {
          "base_uri": "https://localhost:8080/",
          "height": 491
        },
        "id": "VsHLibqDN5Hl",
        "outputId": "77b61ee0-a077-46c5-fa39-faf5b1cb9f3f"
      },
      "execution_count": 23,
      "outputs": [
        {
          "output_type": "display_data",
          "data": {
            "text/plain": [
              "<Figure size 640x480 with 1 Axes>"
            ],
            "image/png": "[encoded data removed]"
          },
          "metadata": {}
        }
      ]
    },
    {
      "cell_type": "markdown",
      "source": [
        "Analisis Awal\n",
        "\n",
        "Dalam analisis awal tentang struktur dasar kumpulan data ini, kami telah memperhatikan lima pengamatan utama:\n",
        "\n",
        "1. Jumlah orang pada usia 18 tahun adalah yang paling banyak, yaitu 40 orang.\n",
        "2. Jumlah orang cenderung menurun seiring dengan peningkatan usia, dengan jumlah terkecil pada usia 22 tahun, yaitu 15 orang.\n",
        "3. Selain usia 18 tahun, jumlah orang yang cukup banyak juga terlihat pada usia 19 tahun (35 orang) dan 20 tahun (34 orang).\n",
        "4. Pada usia 21 tahun, jumlah orang menurun menjadi 25 orang.\n",
        "5. Pada usia 22 tahun, jumlah orang kembali meningkat menjadi 18 orang.\n",
        "\n",
        "Secara keseluruhan, dapat disimpulkan bahwa distribusi usia menunjukkan jumlah terbanyak pada usia 18 tahun, dengan kecenderungan menurun seiring bertambahnya usia, kecuali pada usia 22 tahun yang mengalami sedikit peningkatan."
      ],
      "metadata": {
        "id": "Wj6IZn4FCaFY"
      }
    },
    {
      "cell_type": "markdown",
      "source": [
        "**Exploratory Data Analysis**"
      ],
      "metadata": {
        "id": "Y2z7TqiJ7nfq"
      }
    },
    {
      "cell_type": "code",
      "source": [
        "df_condition = df[df['Memiliki Kondisi?'] == 'Ya']"
      ],
      "metadata": {
        "id": "lccP-59ZODY3"
      },
      "execution_count": 24,
      "outputs": []
    },
    {
      "cell_type": "markdown",
      "source": [
        "Menemukan kondisi yang paling umum"
      ],
      "metadata": {
        "id": "wMu0b0Q3CFAD"
      }
    },
    {
      "cell_type": "code",
      "source": [
        "total_entries = len(df_condition)\n",
        "persentase_depresi = (df_condition['Sedang Depresi?'].value_counts()['Ya'] / total_entries) * 100\n",
        "persentase_cemas = (df_condition['Sedang Cemas?'].value_counts()['Ya'] / total_entries) * 100\n",
        "persentase_panik = (df_condition['Sedang Panik?'].value_counts()['Ya'] / total_entries) * 100\n",
        "\n",
        "# Create a pie chart\n",
        "labels = ['Depresi', 'Cemas', 'Panik']\n",
        "sizes = [persentase_depresi, persentase_cemas, persentase_panik]\n",
        "\n",
        "plt.figure(figsize=(8, 6))\n",
        "plt.pie(sizes, explode=(0.1, 0, 0), labels=labels, autopct='%1.1f%%', startangle=140)\n",
        "plt.axis('equal')\n",
        "plt.title('Persentase setiap kondisi', fontsize=12, fontweight='bold', pad=20)\n",
        "plt.tight_layout()\n",
        "plt.show()"
      ],
      "metadata": {
        "colab": {
          "base_uri": "https://localhost:8080/",
          "height": 606
        },
        "id": "yAQ7GkdwONUb",
        "outputId": "c187fac7-4147-4c3c-ff5f-f8cb05902018"
      },
      "execution_count": 26,
      "outputs": [
        {
          "output_type": "display_data",
          "data": {
            "text/plain": [
              "<Figure size 800x600 with 1 Axes>"
            ],
            "image/png": "[encoded data removed]"
          },
          "metadata": {}
        }
      ]
    },
    {
      "cell_type": "markdown",
      "source": [
        "Berapa banyak orang dengan kondisi tertentu yang menjalani perawatan?"
      ],
      "metadata": {
        "id": "EPFnuH7VCMgu"
      }
    },
    {
      "cell_type": "code",
      "source": [
        "labels = ['Tidak Menjalani Perawatan', 'Sedang Menjalani Perawatan']\n",
        "plt.pie(df_condition['Sedang Menjalani Perawatan?'].value_counts(), labels=labels, autopct='%1.1f%%', startangle=180, explode=(0.005, 0.005))\n",
        "plt.axis('equal')\n",
        "plt.title('Siswa (dengan Kondisi) sedang menjalani perawatan', fontsize=12, fontweight='bold', pad=20)\n",
        "plt.show()"
      ],
      "metadata": {
        "colab": {
          "base_uri": "https://localhost:8080/",
          "height": 448
        },
        "id": "A1gaiOyXPxA7",
        "outputId": "37e33730-534d-4e57-c35b-6f0ec680b634"
      },
      "execution_count": 27,
      "outputs": [
        {
          "output_type": "display_data",
          "data": {
            "text/plain": [
              "<Figure size 640x480 with 1 Axes>"
            ],
            "image/png": "[encoded data removed]"
          },
          "metadata": {}
        }
      ]
    },
    {
      "cell_type": "code",
      "source": [
        "sorted_conditions = df_condition['Kondisi'].value_counts().index.tolist()"
      ],
      "metadata": {
        "id": "5lrv_vHAP7AU"
      },
      "execution_count": 28,
      "outputs": []
    },
    {
      "cell_type": "code",
      "source": [
        "plt.figure(figsize=(15,10))\n",
        "sns.countplot(data=df_condition, x='Kondisi', hue='Sedang Menjalani Perawatan?', order=sorted_conditions)\n",
        "\n",
        "plt.xlabel('Kondisi')\n",
        "plt.ylabel('Siswa')\n",
        "plt.title('Siswa menjalani pengobatan dengan syarat', fontsize=12, fontweight='bold', pad=20)\n",
        "plt.show()"
      ],
      "metadata": {
        "colab": {
          "base_uri": "https://localhost:8080/",
          "height": 892
        },
        "id": "2yZAIX1NP8wN",
        "outputId": "c157ed7d-2c2c-4f40-9e16-1ad419f9284a"
      },
      "execution_count": 29,
      "outputs": [
        {
          "output_type": "display_data",
          "data": {
            "text/plain": [
              "<Figure size 1500x1000 with 1 Axes>"
            ],
            "image/png": "[encoded data removed]"
          },
          "metadata": {}
        }
      ]
    },
    {
      "cell_type": "markdown",
      "source": [
        "Setelah menganalisis kumpulan data, kami mengamati bahwa sekitar 1 dari 10 siswa menjalani pengobatan. Menariknya, temuan kami menunjukkan bahwa siswa dengan kondisi D (yang diduga terkait depresi) memiliki jumlah yang paling sedikit, yaitu hanya sekitar 8 siswa"
      ],
      "metadata": {
        "id": "LWu8lYS8DCQH"
      }
    },
    {
      "cell_type": "markdown",
      "source": [
        "**Conditions By Gender**"
      ],
      "metadata": {
        "id": "dNmDks2SDPP8"
      }
    },
    {
      "cell_type": "code",
      "source": [
        "plt.figure(figsize=(15,10))\n",
        "sns.countplot(data=df_condition, x='Kondisi', hue='Jenis Kelamin', order=sorted_conditions)\n",
        "\n",
        "plt.xlabel('Kondisi')\n",
        "plt.ylabel('Siswa')\n",
        "plt.title('Kondisi menurut Jenis Kelamin (dengan rasio Perempuan:Pria 75:25)', fontsize=12, fontweight='bold', pad=20)\n",
        "plt.show()"
      ],
      "metadata": {
        "colab": {
          "base_uri": "https://localhost:8080/",
          "height": 892
        },
        "id": "xHO3N8oiQAHK",
        "outputId": "b84bb485-e964-4ccc-9201-ce85de9ca85d"
      },
      "execution_count": 30,
      "outputs": [
        {
          "output_type": "display_data",
          "data": {
            "text/plain": [
              "<Figure size 1500x1000 with 1 Axes>"
            ],
            "image/png": "[encoded data removed]"
          },
          "metadata": {}
        }
      ]
    },
    {
      "cell_type": "code",
      "source": [
        "# Menghitung rasio gender\n",
        "gender_ratio = df_condition['Jenis Kelamin'].value_counts(normalize=True)\n",
        "\n",
        "# Menghitung jumlah kondisi berdasarkan gender\n",
        "grouped = df_condition.groupby(['Kondisi', 'Jenis Kelamin']).size().reset_index(name='Count')\n",
        "grouped = grouped.merge(gender_ratio.rename('Gender Ratio'), left_on='Jenis Kelamin', right_index=True)\n",
        "\n",
        "# Normalisasi jumlah kondisi berdasarkan rasio gender\n",
        "grouped['Count'] = grouped['Count'] / grouped['Gender Ratio']\n",
        "\n",
        "# Pivot data untuk membuat dataframe dengan kondisi sebagai baris dan gender sebagai kolom\n",
        "condition_gender_df = grouped.pivot(index='Kondisi', columns='Jenis Kelamin', values='Count').reset_index()\n",
        "condition_gender_df.fillna(0, inplace=True)\n",
        "condition_gender_df.columns = ['Kondisi', 'Pria', 'Perempuan']\n",
        "\n",
        "# Menambahkan kolom total\n",
        "condition_gender_df['Total'] = condition_gender_df['Pria'] + condition_gender_df['Perempuan']\n",
        "\n",
        "# Menyortir dataframe berdasarkan total\n",
        "condition_gender_df = condition_gender_df.round(2).sort_values('Total', ascending=False)\n",
        "\n",
        "print(condition_gender_df)"
      ],
      "metadata": {
        "colab": {
          "base_uri": "https://localhost:8080/"
        },
        "id": "B885LHunQDfo",
        "outputId": "792d4464-6da4-45fd-c41d-d2acabd125f5"
      },
      "execution_count": 31,
      "outputs": [
        {
          "output_type": "stream",
          "name": "stdout",
          "text": [
            "  Kondisi   Pria  Perempuan  Total\n",
            "2     ADP  32.08      14.72  46.79\n",
            "0       A  21.95      24.53  46.48\n",
            "6       P  18.57      26.98  45.55\n",
            "5      DP  16.88      17.17  34.05\n",
            "1      AD  11.82      19.62  31.44\n",
            "3      AP   8.44      19.62  28.06\n",
            "4       D  20.26       7.36  27.62\n"
          ]
        }
      ]
    },
    {
      "cell_type": "code",
      "source": [
        "plt.figure(figsize=(15,10))\n",
        "bar_width = 0.35\n",
        "\n",
        "condition_indices = np.arange(len(condition_gender_df))\n",
        "\n",
        "sns.set_style(\"whitegrid\")\n",
        "\n",
        "plt.bar(condition_indices, condition_gender_df['Perempuan'], width=bar_width, color='#5975a4', label='Perempuan')\n",
        "plt.bar(condition_indices + bar_width, condition_gender_df['Pria'], width=bar_width, color='#cc8963', label='Pria')\n",
        "\n",
        "plt.xticks(condition_indices + bar_width / 2, condition_gender_df['Kondisi'], rotation=45)\n",
        "\n",
        "plt.xlabel('Kondisi')\n",
        "plt.ylabel('Jumlah Mahasiswa')\n",
        "plt.title('Kondisi Berdasarkan Gender (Ternormalisasi)', fontsize=12, fontweight='bold', pad=20)\n",
        "\n",
        "# Menambahkan legenda\n",
        "plt.legend()\n",
        "\n",
        "# Menampilkan plot\n",
        "plt.show()"
      ],
      "metadata": {
        "colab": {
          "base_uri": "https://localhost:8080/",
          "height": 908
        },
        "id": "HwCF9Y-kQFDv",
        "outputId": "4a048db5-2b0c-46d5-e18a-2c29b5a05157"
      },
      "execution_count": 32,
      "outputs": [
        {
          "output_type": "display_data",
          "data": {
            "text/plain": [
              "<Figure size 1500x1000 with 1 Axes>"
            ],
            "image/png": "[encoded data removed]"
          },
          "metadata": {}
        }
      ]
    },
    {
      "cell_type": "markdown",
      "source": [
        "1. Untuk kondisi ADP, jumlah siswa perempuan jauh lebih banyak dibandingkan siswa laki-laki.\n",
        "2. Pada kondisi A, siswa perempuan juga memiliki jumlah yang lebih tinggi daripada siswa laki-laki.\n",
        "3. Untuk kondisi P, terdapat perbedaan yang cukup besar antara jumlah siswa perempuan dan laki-laki, dengan siswa perempuan jauh lebih banyak.\n",
        "4. Pada kondisi DP, meskipun selisihnya tidak terlalu besar, jumlah siswa perempuan masih sedikit lebih banyak dibandingkan siswa laki-laki.\n",
        "5. Untuk kondisi D, jumlah siswa laki-laki dan perempuan relatif seimbang.\n",
        "6. Pada kondisi AD, jumlah siswa laki-laki sedikit lebih banyak daripada siswa perempuan.\n",
        "\n",
        "Secara keseluruhan, data ini menunjukkan adanya perbedaan signifikan dalam distribusi kondisi berdasarkan gender, dengan siswa perempuan cenderung lebih banyak muncul pada beberapa kondisi tertentu."
      ],
      "metadata": {
        "id": "fUli--bBEGWX"
      }
    }
  ]
}