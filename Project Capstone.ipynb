{
 "cells": [
  {
   "cell_type": "code",
   "execution_count": 1,
   "metadata": {},
   "outputs": [],
   "source": [
    "import numpy as np\n",
    "import pandas as pd\n",
    "import matplotlib.pyplot as plt\n",
    "import tensorflow as tf\n",
    "import seaborn as sns"
   ]
  },
  {
   "cell_type": "code",
   "execution_count": 2,
   "metadata": {},
   "outputs": [
    {
     "data": {
      "text/html": [
       "<div>\n",
       "<style scoped>\n",
       "    .dataframe tbody tr th:only-of-type {\n",
       "        vertical-align: middle;\n",
       "    }\n",
       "\n",
       "    .dataframe tbody tr th {\n",
       "        vertical-align: top;\n",
       "    }\n",
       "\n",
       "    .dataframe thead th {\n",
       "        text-align: right;\n",
       "    }\n",
       "</style>\n",
       "<table border=\"1\" class=\"dataframe\">\n",
       "  <thead>\n",
       "    <tr style=\"text-align: right;\">\n",
       "      <th></th>\n",
       "      <th>Jenis Kelamin</th>\n",
       "      <th>Umur</th>\n",
       "      <th>Jurusan</th>\n",
       "      <th>Tahun Studi</th>\n",
       "      <th>IPK</th>\n",
       "      <th>Sudah Menikah?</th>\n",
       "      <th>Sedang Depresi?</th>\n",
       "      <th>Sedang Cemas?</th>\n",
       "      <th>Sedang Panik?</th>\n",
       "      <th>Sedang Menjalani Perawatan?</th>\n",
       "    </tr>\n",
       "  </thead>\n",
       "  <tbody>\n",
       "    <tr>\n",
       "      <th>0</th>\n",
       "      <td>Perempuan</td>\n",
       "      <td>18</td>\n",
       "      <td>Teknik Mesin</td>\n",
       "      <td>1</td>\n",
       "      <td>3,00 - 3,49</td>\n",
       "      <td>Tidak</td>\n",
       "      <td>Ya</td>\n",
       "      <td>Tidak</td>\n",
       "      <td>Ya</td>\n",
       "      <td>Tidak</td>\n",
       "    </tr>\n",
       "    <tr>\n",
       "      <th>1</th>\n",
       "      <td>Pria</td>\n",
       "      <td>21</td>\n",
       "      <td>Pendidikan Agama Islam</td>\n",
       "      <td>2</td>\n",
       "      <td>3,00 - 3,49</td>\n",
       "      <td>Tidak</td>\n",
       "      <td>Tidak</td>\n",
       "      <td>Ya</td>\n",
       "      <td>Tidak</td>\n",
       "      <td>Tidak</td>\n",
       "    </tr>\n",
       "    <tr>\n",
       "      <th>2</th>\n",
       "      <td>Pria</td>\n",
       "      <td>19</td>\n",
       "      <td>Teknik Mesin</td>\n",
       "      <td>1</td>\n",
       "      <td>3,00 - 3,49</td>\n",
       "      <td>Tidak</td>\n",
       "      <td>Tidak</td>\n",
       "      <td>Tidak</td>\n",
       "      <td>Tidak</td>\n",
       "      <td>Tidak</td>\n",
       "    </tr>\n",
       "    <tr>\n",
       "      <th>3</th>\n",
       "      <td>Perempuan</td>\n",
       "      <td>22</td>\n",
       "      <td>Hukum</td>\n",
       "      <td>3</td>\n",
       "      <td>3,00 - 3,49</td>\n",
       "      <td>Ya</td>\n",
       "      <td>Ya</td>\n",
       "      <td>Tidak</td>\n",
       "      <td>Tidak</td>\n",
       "      <td>Tidak</td>\n",
       "    </tr>\n",
       "    <tr>\n",
       "      <th>4</th>\n",
       "      <td>Pria</td>\n",
       "      <td>23</td>\n",
       "      <td>Matematika</td>\n",
       "      <td>4</td>\n",
       "      <td>3,00 - 3,49</td>\n",
       "      <td>Tidak</td>\n",
       "      <td>Tidak</td>\n",
       "      <td>Tidak</td>\n",
       "      <td>Tidak</td>\n",
       "      <td>Tidak</td>\n",
       "    </tr>\n",
       "  </tbody>\n",
       "</table>\n",
       "</div>"
      ],
      "text/plain": [
       "  Jenis Kelamin  Umur                 Jurusan  Tahun Studi          IPK  \\\n",
       "0     Perempuan    18            Teknik Mesin            1  3,00 - 3,49   \n",
       "1          Pria    21  Pendidikan Agama Islam            2  3,00 - 3,49   \n",
       "2          Pria    19            Teknik Mesin            1  3,00 - 3,49   \n",
       "3     Perempuan    22                   Hukum            3  3,00 - 3,49   \n",
       "4          Pria    23              Matematika            4  3,00 - 3,49   \n",
       "\n",
       "  Sudah Menikah? Sedang Depresi? Sedang Cemas? Sedang Panik?  \\\n",
       "0          Tidak              Ya         Tidak            Ya   \n",
       "1          Tidak           Tidak            Ya         Tidak   \n",
       "2          Tidak           Tidak         Tidak         Tidak   \n",
       "3             Ya              Ya         Tidak         Tidak   \n",
       "4          Tidak           Tidak         Tidak         Tidak   \n",
       "\n",
       "  Sedang Menjalani Perawatan?  \n",
       "0                       Tidak  \n",
       "1                       Tidak  \n",
       "2                       Tidak  \n",
       "3                       Tidak  \n",
       "4                       Tidak  "
      ]
     },
     "execution_count": 2,
     "metadata": {},
     "output_type": "execute_result"
    }
   ],
   "source": [
    "df=pd.read_csv(\"/content/Student Mental health.csv\")\n",
    "df.head()"
   ]
  },
  {
   "cell_type": "code",
   "execution_count": 3,
   "metadata": {
    "colab": {
     "base_uri": "https://localhost:8080/"
    },
    "id": "ufmkWWk-KG9A",
    "outputId": "e2f170c4-0b4d-4fc7-e257-2bae32850d33"
   },
   "outputs": [
    {
     "name": "stdout",
     "output_type": "stream",
     "text": [
      "(500, 10)\n"
     ]
    }
   ],
   "source": [
    "print(df.shape)"
   ]
  },
  {
   "cell_type": "code",
   "execution_count": 4,
   "metadata": {
    "colab": {
     "base_uri": "https://localhost:8080/"
    },
    "id": "318A7hA9KJZS",
    "outputId": "bb50cc60-48d7-4059-d255-9846c1670248"
   },
   "outputs": [
    {
     "data": {
      "text/plain": [
       "Index(['Jenis Kelamin', 'Umur', 'Jurusan', 'Tahun Studi', 'IPK',\n",
       "       'Sudah Menikah?', 'Sedang Depresi?', 'Sedang Cemas?', 'Sedang Panik?',\n",
       "       'Sedang Menjalani Perawatan?'],\n",
       "      dtype='object')"
      ]
     },
     "execution_count": 4,
     "metadata": {},
     "output_type": "execute_result"
    }
   ],
   "source": [
    "df.columns"
   ]
  },
  {
   "cell_type": "code",
   "execution_count": 5,
   "metadata": {
    "colab": {
     "base_uri": "https://localhost:8080/",
     "height": 300
    },
    "id": "gHkXifq7KMLB",
    "outputId": "7b8c3ceb-4b2d-43e9-a8c4-06ee9444f03d"
   },
   "outputs": [
    {
     "data": {
      "text/html": [
       "<div>\n",
       "<style scoped>\n",
       "    .dataframe tbody tr th:only-of-type {\n",
       "        vertical-align: middle;\n",
       "    }\n",
       "\n",
       "    .dataframe tbody tr th {\n",
       "        vertical-align: top;\n",
       "    }\n",
       "\n",
       "    .dataframe thead th {\n",
       "        text-align: right;\n",
       "    }\n",
       "</style>\n",
       "<table border=\"1\" class=\"dataframe\">\n",
       "  <thead>\n",
       "    <tr style=\"text-align: right;\">\n",
       "      <th></th>\n",
       "      <th>Umur</th>\n",
       "      <th>Tahun Studi</th>\n",
       "    </tr>\n",
       "  </thead>\n",
       "  <tbody>\n",
       "    <tr>\n",
       "      <th>count</th>\n",
       "      <td>500.000000</td>\n",
       "      <td>500.000000</td>\n",
       "    </tr>\n",
       "    <tr>\n",
       "      <th>mean</th>\n",
       "      <td>20.466000</td>\n",
       "      <td>2.308000</td>\n",
       "    </tr>\n",
       "    <tr>\n",
       "      <th>std</th>\n",
       "      <td>2.001213</td>\n",
       "      <td>1.250706</td>\n",
       "    </tr>\n",
       "    <tr>\n",
       "      <th>min</th>\n",
       "      <td>18.000000</td>\n",
       "      <td>1.000000</td>\n",
       "    </tr>\n",
       "    <tr>\n",
       "      <th>25%</th>\n",
       "      <td>19.000000</td>\n",
       "      <td>1.000000</td>\n",
       "    </tr>\n",
       "    <tr>\n",
       "      <th>50%</th>\n",
       "      <td>20.000000</td>\n",
       "      <td>2.000000</td>\n",
       "    </tr>\n",
       "    <tr>\n",
       "      <th>75%</th>\n",
       "      <td>22.000000</td>\n",
       "      <td>3.000000</td>\n",
       "    </tr>\n",
       "    <tr>\n",
       "      <th>max</th>\n",
       "      <td>24.000000</td>\n",
       "      <td>6.000000</td>\n",
       "    </tr>\n",
       "  </tbody>\n",
       "</table>\n",
       "</div>"
      ],
      "text/plain": [
       "             Umur  Tahun Studi\n",
       "count  500.000000   500.000000\n",
       "mean    20.466000     2.308000\n",
       "std      2.001213     1.250706\n",
       "min     18.000000     1.000000\n",
       "25%     19.000000     1.000000\n",
       "50%     20.000000     2.000000\n",
       "75%     22.000000     3.000000\n",
       "max     24.000000     6.000000"
      ]
     },
     "execution_count": 5,
     "metadata": {},
     "output_type": "execute_result"
    }
   ],
   "source": [
    "df.describe()"
   ]
  },
  {
   "cell_type": "code",
   "execution_count": 6,
   "metadata": {
    "colab": {
     "base_uri": "https://localhost:8080/"
    },
    "id": "e-wBpxZeKOtF",
    "outputId": "8a27081d-4aac-4219-a956-b3f98b2a6ed4"
   },
   "outputs": [
    {
     "data": {
      "text/plain": [
       "Umur\n",
       "20    111\n",
       "19    107\n",
       "18     88\n",
       "24     66\n",
       "21     50\n",
       "23     46\n",
       "22     32\n",
       "Name: count, dtype: int64"
      ]
     },
     "execution_count": 6,
     "metadata": {},
     "output_type": "execute_result"
    }
   ],
   "source": [
    "# age column is strange, look for outliers\n",
    "df['Umur'].value_counts()"
   ]
  },
  {
   "cell_type": "markdown",
   "metadata": {
    "id": "HoOuEliY0i0d"
   },
   "source": [
    "## Data Cleaning"
   ]
  },
  {
   "cell_type": "code",
   "execution_count": 7,
   "metadata": {
    "id": "2hd3RoAWKV2X"
   },
   "outputs": [],
   "source": [
    "df=df.drop_duplicates()"
   ]
  },
  {
   "cell_type": "code",
   "execution_count": 8,
   "metadata": {
    "colab": {
     "base_uri": "https://localhost:8080/"
    },
    "id": "ItSGyW-SKY4u",
    "outputId": "ad4382ee-a8f1-4726-e06a-89eafd9e3442"
   },
   "outputs": [
    {
     "data": {
      "text/plain": [
       "Jenis Kelamin                  0\n",
       "Umur                           0\n",
       "Jurusan                        0\n",
       "Tahun Studi                    0\n",
       "IPK                            0\n",
       "Sudah Menikah?                 0\n",
       "Sedang Depresi?                0\n",
       "Sedang Cemas?                  0\n",
       "Sedang Panik?                  0\n",
       "Sedang Menjalani Perawatan?    0\n",
       "dtype: int64"
      ]
     },
     "execution_count": 8,
     "metadata": {},
     "output_type": "execute_result"
    }
   ],
   "source": [
    "df.isnull().sum()"
   ]
  },
  {
   "cell_type": "markdown",
   "metadata": {
    "id": "p7xSz0Oq-aqm"
   },
   "source": [
    "Kami melihat satu baris memiliki nilai yang hilang sehingga solusi termudah adalah dengan menghilangkan baris tersebut seluruhnya"
   ]
  },
  {
   "cell_type": "code",
   "execution_count": 9,
   "metadata": {
    "colab": {
     "base_uri": "https://localhost:8080/"
    },
    "id": "YqHN6_W_KZ55",
    "outputId": "d933bfaf-f34f-4ef4-8dd0-305299810dc9"
   },
   "outputs": [
    {
     "data": {
      "text/plain": [
       "Jenis Kelamin                  0\n",
       "Umur                           0\n",
       "Jurusan                        0\n",
       "Tahun Studi                    0\n",
       "IPK                            0\n",
       "Sudah Menikah?                 0\n",
       "Sedang Depresi?                0\n",
       "Sedang Cemas?                  0\n",
       "Sedang Panik?                  0\n",
       "Sedang Menjalani Perawatan?    0\n",
       "dtype: int64"
      ]
     },
     "execution_count": 9,
     "metadata": {},
     "output_type": "execute_result"
    }
   ],
   "source": [
    "df.dropna(inplace=True)\n",
    "df.isna().sum()"
   ]
  },
  {
   "cell_type": "code",
   "execution_count": 10,
   "metadata": {
    "colab": {
     "base_uri": "https://localhost:8080/"
    },
    "id": "0oN2h38DKjEI",
    "outputId": "8c5faed2-2124-4dec-f3c3-18fd00038d23"
   },
   "outputs": [
    {
     "name": "stdout",
     "output_type": "stream",
     "text": [
      "<class 'pandas.core.frame.DataFrame'>\n",
      "Index: 161 entries, 0 to 223\n",
      "Data columns (total 10 columns):\n",
      " #   Column                       Non-Null Count  Dtype \n",
      "---  ------                       --------------  ----- \n",
      " 0   Jenis Kelamin                161 non-null    object\n",
      " 1   Umur                         161 non-null    int64 \n",
      " 2   Jurusan                      161 non-null    object\n",
      " 3   Tahun Studi                  161 non-null    int64 \n",
      " 4   IPK                          161 non-null    object\n",
      " 5   Sudah Menikah?               161 non-null    object\n",
      " 6   Sedang Depresi?              161 non-null    object\n",
      " 7   Sedang Cemas?                161 non-null    object\n",
      " 8   Sedang Panik?                161 non-null    object\n",
      " 9   Sedang Menjalani Perawatan?  161 non-null    object\n",
      "dtypes: int64(2), object(8)\n",
      "memory usage: 13.8+ KB\n"
     ]
    }
   ],
   "source": [
    "columns_names = ['Jenis Kelamin', 'Umur', 'Jurusan', 'Tahun Studi', 'IPK',\n",
    "       'Sudah Menikah?', 'Sedang Depresi?', 'Sedang Cemas?', 'Sedang Panik?',\n",
    "       'Sedang Menjalani Perawatan?']\n",
    "df.columns = columns_names\n",
    "df.info()"
   ]
  },
  {
   "cell_type": "markdown",
   "metadata": {
    "id": "priA_YQb-ndY"
   },
   "source": [
    "Penamaan setiap kolom terlalu panjang sehingga lebih mudah untuk mengganti nama menjadi nama yang lebih pendek dan deskriptif"
   ]
  },
  {
   "cell_type": "markdown",
   "metadata": {
    "id": "ePIFitVA_wtJ"
   },
   "source": [
    "**Umur**"
   ]
  },
  {
   "cell_type": "code",
   "execution_count": 11,
   "metadata": {
    "colab": {
     "base_uri": "https://localhost:8080/"
    },
    "id": "mYPHzOq_Kr7j",
    "outputId": "ddbccf66-3672-4d05-9f53-4e91acb55cf5"
   },
   "outputs": [
    {
     "data": {
      "text/plain": [
       "dtype('int32')"
      ]
     },
     "execution_count": 11,
     "metadata": {},
     "output_type": "execute_result"
    }
   ],
   "source": [
    "df['Umur'].dtype\n",
    "# dtype('float64')\n",
    "df['Umur'] = df['Umur'].astype(int)\n",
    "df['Umur'].dtype"
   ]
  },
  {
   "cell_type": "markdown",
   "metadata": {
    "id": "0y7URQTELEoU"
   },
   "source": [
    "**Tahun Studi**"
   ]
  },
  {
   "cell_type": "code",
   "execution_count": 12,
   "metadata": {
    "colab": {
     "base_uri": "https://localhost:8080/"
    },
    "id": "O24x1WvTLGEj",
    "outputId": "0af3793d-2dc5-4a2c-9bc6-88af8f5496ee"
   },
   "outputs": [
    {
     "data": {
      "text/plain": [
       "array([1, 2, 3, 4, 5, 6], dtype=int64)"
      ]
     },
     "execution_count": 12,
     "metadata": {},
     "output_type": "execute_result"
    }
   ],
   "source": [
    "df['Tahun Studi'].unique()"
   ]
  },
  {
   "cell_type": "markdown",
   "metadata": {
    "id": "xDjeCuZ2AB8p"
   },
   "source": [
    "Kami menemukan metode terbaik bagi kami adalah mengubah kolom Tahun Studi menjadi tipe integer yang hanya berisi Tahun"
   ]
  },
  {
   "cell_type": "markdown",
   "metadata": {
    "id": "fcKPi_BzALBr"
   },
   "source": [
    "**Kolom IPK**"
   ]
  },
  {
   "cell_type": "code",
   "execution_count": 13,
   "metadata": {
    "colab": {
     "base_uri": "https://localhost:8080/"
    },
    "id": "HmRiJjUOLOOn",
    "outputId": "f7c21cdb-5785-477d-c309-73f680b44f9c"
   },
   "outputs": [
    {
     "data": {
      "text/plain": [
       "array(['3,00 - 3,49', '3,50 - 4,00', '2,50 - 2,99', '2,00 - 2,49',\n",
       "       '0 - 1,99'], dtype=object)"
      ]
     },
     "execution_count": 13,
     "metadata": {},
     "output_type": "execute_result"
    }
   ],
   "source": [
    "df['IPK'].unique()"
   ]
  },
  {
   "cell_type": "markdown",
   "metadata": {
    "id": "Sbuzs5_nATHG"
   },
   "source": [
    "Menghapus nilai-nilai berbeda yang disebabkan oleh spasi putih"
   ]
  },
  {
   "cell_type": "markdown",
   "metadata": {
    "id": "2LQCt3TIAb8Q"
   },
   "source": [
    "**Students Conditions**"
   ]
  },
  {
   "cell_type": "code",
   "execution_count": 14,
   "metadata": {
    "id": "PQmy8vfvLqRq"
   },
   "outputs": [],
   "source": [
    "depressed_filter = df['Sedang Depresi?'] == 'Ya'\n",
    "anxiety_filter = df['Sedang Cemas?'] == 'Ya'\n",
    "panicking_filter = df['Sedang Panik?'] == 'Ya'\n",
    "conditions_filter = anxiety_filter | depressed_filter | panicking_filter\n",
    "no_conditions_filter = ~depressed_filter & ~anxiety_filter & ~panicking_filter"
   ]
  },
  {
   "cell_type": "markdown",
   "metadata": {
    "id": "beOpMjomAkG3"
   },
   "source": [
    "Setelah membuat beberapa filter, saya menambahkan kolom baru bernama Has Condition? untuk menunjukkan apakah seorang Siswa terpengaruh atau tidak oleh suatu kondisi."
   ]
  },
  {
   "cell_type": "code",
   "execution_count": 15,
   "metadata": {
    "colab": {
     "base_uri": "https://localhost:8080/",
     "height": 615
    },
    "id": "Bgg4KbNXMEv4",
    "outputId": "dc0ca30e-0cfa-4f83-8de1-0719d8c111d1"
   },
   "outputs": [
    {
     "data": {
      "text/html": [
       "<div>\n",
       "<style scoped>\n",
       "    .dataframe tbody tr th:only-of-type {\n",
       "        vertical-align: middle;\n",
       "    }\n",
       "\n",
       "    .dataframe tbody tr th {\n",
       "        vertical-align: top;\n",
       "    }\n",
       "\n",
       "    .dataframe thead th {\n",
       "        text-align: right;\n",
       "    }\n",
       "</style>\n",
       "<table border=\"1\" class=\"dataframe\">\n",
       "  <thead>\n",
       "    <tr style=\"text-align: right;\">\n",
       "      <th></th>\n",
       "      <th>Jenis Kelamin</th>\n",
       "      <th>Umur</th>\n",
       "      <th>Jurusan</th>\n",
       "      <th>Tahun Studi</th>\n",
       "      <th>IPK</th>\n",
       "      <th>Sudah Menikah?</th>\n",
       "      <th>Sedang Depresi?</th>\n",
       "      <th>Sedang Cemas?</th>\n",
       "      <th>Sedang Panik?</th>\n",
       "      <th>Sedang Menjalani Perawatan?</th>\n",
       "      <th>Memiliki Kondisi?</th>\n",
       "    </tr>\n",
       "  </thead>\n",
       "  <tbody>\n",
       "    <tr>\n",
       "      <th>0</th>\n",
       "      <td>Perempuan</td>\n",
       "      <td>18</td>\n",
       "      <td>Teknik Mesin</td>\n",
       "      <td>1</td>\n",
       "      <td>3,00 - 3,49</td>\n",
       "      <td>Tidak</td>\n",
       "      <td>Ya</td>\n",
       "      <td>Tidak</td>\n",
       "      <td>Ya</td>\n",
       "      <td>Tidak</td>\n",
       "      <td>Ya</td>\n",
       "    </tr>\n",
       "    <tr>\n",
       "      <th>1</th>\n",
       "      <td>Pria</td>\n",
       "      <td>21</td>\n",
       "      <td>Pendidikan Agama Islam</td>\n",
       "      <td>2</td>\n",
       "      <td>3,00 - 3,49</td>\n",
       "      <td>Tidak</td>\n",
       "      <td>Tidak</td>\n",
       "      <td>Ya</td>\n",
       "      <td>Tidak</td>\n",
       "      <td>Tidak</td>\n",
       "      <td>Ya</td>\n",
       "    </tr>\n",
       "    <tr>\n",
       "      <th>2</th>\n",
       "      <td>Pria</td>\n",
       "      <td>19</td>\n",
       "      <td>Teknik Mesin</td>\n",
       "      <td>1</td>\n",
       "      <td>3,00 - 3,49</td>\n",
       "      <td>Tidak</td>\n",
       "      <td>Tidak</td>\n",
       "      <td>Tidak</td>\n",
       "      <td>Tidak</td>\n",
       "      <td>Tidak</td>\n",
       "      <td>Tidak</td>\n",
       "    </tr>\n",
       "    <tr>\n",
       "      <th>3</th>\n",
       "      <td>Perempuan</td>\n",
       "      <td>22</td>\n",
       "      <td>Hukum</td>\n",
       "      <td>3</td>\n",
       "      <td>3,00 - 3,49</td>\n",
       "      <td>Ya</td>\n",
       "      <td>Ya</td>\n",
       "      <td>Tidak</td>\n",
       "      <td>Tidak</td>\n",
       "      <td>Tidak</td>\n",
       "      <td>Ya</td>\n",
       "    </tr>\n",
       "    <tr>\n",
       "      <th>4</th>\n",
       "      <td>Pria</td>\n",
       "      <td>23</td>\n",
       "      <td>Matematika</td>\n",
       "      <td>4</td>\n",
       "      <td>3,00 - 3,49</td>\n",
       "      <td>Tidak</td>\n",
       "      <td>Tidak</td>\n",
       "      <td>Tidak</td>\n",
       "      <td>Tidak</td>\n",
       "      <td>Tidak</td>\n",
       "      <td>Tidak</td>\n",
       "    </tr>\n",
       "    <tr>\n",
       "      <th>...</th>\n",
       "      <td>...</td>\n",
       "      <td>...</td>\n",
       "      <td>...</td>\n",
       "      <td>...</td>\n",
       "      <td>...</td>\n",
       "      <td>...</td>\n",
       "      <td>...</td>\n",
       "      <td>...</td>\n",
       "      <td>...</td>\n",
       "      <td>...</td>\n",
       "      <td>...</td>\n",
       "    </tr>\n",
       "    <tr>\n",
       "      <th>218</th>\n",
       "      <td>Perempuan</td>\n",
       "      <td>18</td>\n",
       "      <td>Hukum</td>\n",
       "      <td>1</td>\n",
       "      <td>3,50 - 4,00</td>\n",
       "      <td>Tidak</td>\n",
       "      <td>Tidak</td>\n",
       "      <td>Ya</td>\n",
       "      <td>Ya</td>\n",
       "      <td>Ya</td>\n",
       "      <td>Ya</td>\n",
       "    </tr>\n",
       "    <tr>\n",
       "      <th>219</th>\n",
       "      <td>Perempuan</td>\n",
       "      <td>18</td>\n",
       "      <td>Matematika</td>\n",
       "      <td>1</td>\n",
       "      <td>2,50 - 2,99</td>\n",
       "      <td>Tidak</td>\n",
       "      <td>Tidak</td>\n",
       "      <td>Tidak</td>\n",
       "      <td>Tidak</td>\n",
       "      <td>Tidak</td>\n",
       "      <td>Tidak</td>\n",
       "    </tr>\n",
       "    <tr>\n",
       "      <th>220</th>\n",
       "      <td>Perempuan</td>\n",
       "      <td>21</td>\n",
       "      <td>Ilmu Komputer</td>\n",
       "      <td>3</td>\n",
       "      <td>3,00 - 3,49</td>\n",
       "      <td>Tidak</td>\n",
       "      <td>Ya</td>\n",
       "      <td>Tidak</td>\n",
       "      <td>Ya</td>\n",
       "      <td>Ya</td>\n",
       "      <td>Ya</td>\n",
       "    </tr>\n",
       "    <tr>\n",
       "      <th>221</th>\n",
       "      <td>Perempuan</td>\n",
       "      <td>20</td>\n",
       "      <td>Manajemen</td>\n",
       "      <td>2</td>\n",
       "      <td>3,00 - 3,49</td>\n",
       "      <td>Ya</td>\n",
       "      <td>Ya</td>\n",
       "      <td>Tidak</td>\n",
       "      <td>Tidak</td>\n",
       "      <td>Tidak</td>\n",
       "      <td>Ya</td>\n",
       "    </tr>\n",
       "    <tr>\n",
       "      <th>223</th>\n",
       "      <td>Pria</td>\n",
       "      <td>21</td>\n",
       "      <td>Teknik Elektro</td>\n",
       "      <td>3</td>\n",
       "      <td>3,50 - 4,00</td>\n",
       "      <td>Tidak</td>\n",
       "      <td>Ya</td>\n",
       "      <td>Ya</td>\n",
       "      <td>Tidak</td>\n",
       "      <td>Tidak</td>\n",
       "      <td>Ya</td>\n",
       "    </tr>\n",
       "  </tbody>\n",
       "</table>\n",
       "<p>161 rows × 11 columns</p>\n",
       "</div>"
      ],
      "text/plain": [
       "    Jenis Kelamin  Umur                 Jurusan  Tahun Studi          IPK  \\\n",
       "0       Perempuan    18            Teknik Mesin            1  3,00 - 3,49   \n",
       "1            Pria    21  Pendidikan Agama Islam            2  3,00 - 3,49   \n",
       "2            Pria    19            Teknik Mesin            1  3,00 - 3,49   \n",
       "3       Perempuan    22                   Hukum            3  3,00 - 3,49   \n",
       "4            Pria    23              Matematika            4  3,00 - 3,49   \n",
       "..            ...   ...                     ...          ...          ...   \n",
       "218     Perempuan    18                   Hukum            1  3,50 - 4,00   \n",
       "219     Perempuan    18              Matematika            1  2,50 - 2,99   \n",
       "220     Perempuan    21           Ilmu Komputer            3  3,00 - 3,49   \n",
       "221     Perempuan    20               Manajemen            2  3,00 - 3,49   \n",
       "223          Pria    21          Teknik Elektro            3  3,50 - 4,00   \n",
       "\n",
       "    Sudah Menikah? Sedang Depresi? Sedang Cemas? Sedang Panik?  \\\n",
       "0            Tidak              Ya         Tidak            Ya   \n",
       "1            Tidak           Tidak            Ya         Tidak   \n",
       "2            Tidak           Tidak         Tidak         Tidak   \n",
       "3               Ya              Ya         Tidak         Tidak   \n",
       "4            Tidak           Tidak         Tidak         Tidak   \n",
       "..             ...             ...           ...           ...   \n",
       "218          Tidak           Tidak            Ya            Ya   \n",
       "219          Tidak           Tidak         Tidak         Tidak   \n",
       "220          Tidak              Ya         Tidak            Ya   \n",
       "221             Ya              Ya         Tidak         Tidak   \n",
       "223          Tidak              Ya            Ya         Tidak   \n",
       "\n",
       "    Sedang Menjalani Perawatan? Memiliki Kondisi?  \n",
       "0                         Tidak                Ya  \n",
       "1                         Tidak                Ya  \n",
       "2                         Tidak             Tidak  \n",
       "3                         Tidak                Ya  \n",
       "4                         Tidak             Tidak  \n",
       "..                          ...               ...  \n",
       "218                          Ya                Ya  \n",
       "219                       Tidak             Tidak  \n",
       "220                          Ya                Ya  \n",
       "221                       Tidak                Ya  \n",
       "223                       Tidak                Ya  \n",
       "\n",
       "[161 rows x 11 columns]"
      ]
     },
     "execution_count": 15,
     "metadata": {},
     "output_type": "execute_result"
    }
   ],
   "source": [
    "df['Memiliki Kondisi?'] = np.where(conditions_filter, 'Ya',\"Tidak\")\n",
    "df"
   ]
  },
  {
   "cell_type": "markdown",
   "metadata": {
    "id": "anAkvJ9GMdlj"
   },
   "source": [
    "Membuat kolom baru bernama Kondisi.\n",
    "\n",
    "Untuk setiap kondisi (Mengalami Depresi, Mengalami Kecemasan, atau Mengalami Serangan Panik) yang dialami siswa, sebuah huruf (A = Kecemasan, D = Depresi, dan P = Serangan Panik) ditambahkan ke kolom Kondisi sehingga memudahkan untuk melacak dan memfilter data."
   ]
  },
  {
   "cell_type": "code",
   "execution_count": 16,
   "metadata": {
    "colab": {
     "base_uri": "https://localhost:8080/",
     "height": 615
    },
    "id": "K9yCuoPJMhq9",
    "outputId": "8e9ca1c5-de8b-4b55-bdd4-c394a35aeced"
   },
   "outputs": [
    {
     "data": {
      "text/html": [
       "<div>\n",
       "<style scoped>\n",
       "    .dataframe tbody tr th:only-of-type {\n",
       "        vertical-align: middle;\n",
       "    }\n",
       "\n",
       "    .dataframe tbody tr th {\n",
       "        vertical-align: top;\n",
       "    }\n",
       "\n",
       "    .dataframe thead th {\n",
       "        text-align: right;\n",
       "    }\n",
       "</style>\n",
       "<table border=\"1\" class=\"dataframe\">\n",
       "  <thead>\n",
       "    <tr style=\"text-align: right;\">\n",
       "      <th></th>\n",
       "      <th>Jenis Kelamin</th>\n",
       "      <th>Umur</th>\n",
       "      <th>Jurusan</th>\n",
       "      <th>Tahun Studi</th>\n",
       "      <th>IPK</th>\n",
       "      <th>Sudah Menikah?</th>\n",
       "      <th>Sedang Depresi?</th>\n",
       "      <th>Sedang Cemas?</th>\n",
       "      <th>Sedang Panik?</th>\n",
       "      <th>Sedang Menjalani Perawatan?</th>\n",
       "      <th>Memiliki Kondisi?</th>\n",
       "      <th>Kondisi</th>\n",
       "    </tr>\n",
       "  </thead>\n",
       "  <tbody>\n",
       "    <tr>\n",
       "      <th>0</th>\n",
       "      <td>Perempuan</td>\n",
       "      <td>18</td>\n",
       "      <td>Teknik Mesin</td>\n",
       "      <td>1</td>\n",
       "      <td>3,00 - 3,49</td>\n",
       "      <td>Tidak</td>\n",
       "      <td>Ya</td>\n",
       "      <td>Tidak</td>\n",
       "      <td>Ya</td>\n",
       "      <td>Tidak</td>\n",
       "      <td>Ya</td>\n",
       "      <td>DP</td>\n",
       "    </tr>\n",
       "    <tr>\n",
       "      <th>1</th>\n",
       "      <td>Pria</td>\n",
       "      <td>21</td>\n",
       "      <td>Pendidikan Agama Islam</td>\n",
       "      <td>2</td>\n",
       "      <td>3,00 - 3,49</td>\n",
       "      <td>Tidak</td>\n",
       "      <td>Tidak</td>\n",
       "      <td>Ya</td>\n",
       "      <td>Tidak</td>\n",
       "      <td>Tidak</td>\n",
       "      <td>Ya</td>\n",
       "      <td>A</td>\n",
       "    </tr>\n",
       "    <tr>\n",
       "      <th>2</th>\n",
       "      <td>Pria</td>\n",
       "      <td>19</td>\n",
       "      <td>Teknik Mesin</td>\n",
       "      <td>1</td>\n",
       "      <td>3,00 - 3,49</td>\n",
       "      <td>Tidak</td>\n",
       "      <td>Tidak</td>\n",
       "      <td>Tidak</td>\n",
       "      <td>Tidak</td>\n",
       "      <td>Tidak</td>\n",
       "      <td>Tidak</td>\n",
       "      <td>None</td>\n",
       "    </tr>\n",
       "    <tr>\n",
       "      <th>3</th>\n",
       "      <td>Perempuan</td>\n",
       "      <td>22</td>\n",
       "      <td>Hukum</td>\n",
       "      <td>3</td>\n",
       "      <td>3,00 - 3,49</td>\n",
       "      <td>Ya</td>\n",
       "      <td>Ya</td>\n",
       "      <td>Tidak</td>\n",
       "      <td>Tidak</td>\n",
       "      <td>Tidak</td>\n",
       "      <td>Ya</td>\n",
       "      <td>D</td>\n",
       "    </tr>\n",
       "    <tr>\n",
       "      <th>4</th>\n",
       "      <td>Pria</td>\n",
       "      <td>23</td>\n",
       "      <td>Matematika</td>\n",
       "      <td>4</td>\n",
       "      <td>3,00 - 3,49</td>\n",
       "      <td>Tidak</td>\n",
       "      <td>Tidak</td>\n",
       "      <td>Tidak</td>\n",
       "      <td>Tidak</td>\n",
       "      <td>Tidak</td>\n",
       "      <td>Tidak</td>\n",
       "      <td>None</td>\n",
       "    </tr>\n",
       "    <tr>\n",
       "      <th>...</th>\n",
       "      <td>...</td>\n",
       "      <td>...</td>\n",
       "      <td>...</td>\n",
       "      <td>...</td>\n",
       "      <td>...</td>\n",
       "      <td>...</td>\n",
       "      <td>...</td>\n",
       "      <td>...</td>\n",
       "      <td>...</td>\n",
       "      <td>...</td>\n",
       "      <td>...</td>\n",
       "      <td>...</td>\n",
       "    </tr>\n",
       "    <tr>\n",
       "      <th>218</th>\n",
       "      <td>Perempuan</td>\n",
       "      <td>18</td>\n",
       "      <td>Hukum</td>\n",
       "      <td>1</td>\n",
       "      <td>3,50 - 4,00</td>\n",
       "      <td>Tidak</td>\n",
       "      <td>Tidak</td>\n",
       "      <td>Ya</td>\n",
       "      <td>Ya</td>\n",
       "      <td>Ya</td>\n",
       "      <td>Ya</td>\n",
       "      <td>AP</td>\n",
       "    </tr>\n",
       "    <tr>\n",
       "      <th>219</th>\n",
       "      <td>Perempuan</td>\n",
       "      <td>18</td>\n",
       "      <td>Matematika</td>\n",
       "      <td>1</td>\n",
       "      <td>2,50 - 2,99</td>\n",
       "      <td>Tidak</td>\n",
       "      <td>Tidak</td>\n",
       "      <td>Tidak</td>\n",
       "      <td>Tidak</td>\n",
       "      <td>Tidak</td>\n",
       "      <td>Tidak</td>\n",
       "      <td>None</td>\n",
       "    </tr>\n",
       "    <tr>\n",
       "      <th>220</th>\n",
       "      <td>Perempuan</td>\n",
       "      <td>21</td>\n",
       "      <td>Ilmu Komputer</td>\n",
       "      <td>3</td>\n",
       "      <td>3,00 - 3,49</td>\n",
       "      <td>Tidak</td>\n",
       "      <td>Ya</td>\n",
       "      <td>Tidak</td>\n",
       "      <td>Ya</td>\n",
       "      <td>Ya</td>\n",
       "      <td>Ya</td>\n",
       "      <td>DP</td>\n",
       "    </tr>\n",
       "    <tr>\n",
       "      <th>221</th>\n",
       "      <td>Perempuan</td>\n",
       "      <td>20</td>\n",
       "      <td>Manajemen</td>\n",
       "      <td>2</td>\n",
       "      <td>3,00 - 3,49</td>\n",
       "      <td>Ya</td>\n",
       "      <td>Ya</td>\n",
       "      <td>Tidak</td>\n",
       "      <td>Tidak</td>\n",
       "      <td>Tidak</td>\n",
       "      <td>Ya</td>\n",
       "      <td>D</td>\n",
       "    </tr>\n",
       "    <tr>\n",
       "      <th>223</th>\n",
       "      <td>Pria</td>\n",
       "      <td>21</td>\n",
       "      <td>Teknik Elektro</td>\n",
       "      <td>3</td>\n",
       "      <td>3,50 - 4,00</td>\n",
       "      <td>Tidak</td>\n",
       "      <td>Ya</td>\n",
       "      <td>Ya</td>\n",
       "      <td>Tidak</td>\n",
       "      <td>Tidak</td>\n",
       "      <td>Ya</td>\n",
       "      <td>AD</td>\n",
       "    </tr>\n",
       "  </tbody>\n",
       "</table>\n",
       "<p>161 rows × 12 columns</p>\n",
       "</div>"
      ],
      "text/plain": [
       "    Jenis Kelamin  Umur                 Jurusan  Tahun Studi          IPK  \\\n",
       "0       Perempuan    18            Teknik Mesin            1  3,00 - 3,49   \n",
       "1            Pria    21  Pendidikan Agama Islam            2  3,00 - 3,49   \n",
       "2            Pria    19            Teknik Mesin            1  3,00 - 3,49   \n",
       "3       Perempuan    22                   Hukum            3  3,00 - 3,49   \n",
       "4            Pria    23              Matematika            4  3,00 - 3,49   \n",
       "..            ...   ...                     ...          ...          ...   \n",
       "218     Perempuan    18                   Hukum            1  3,50 - 4,00   \n",
       "219     Perempuan    18              Matematika            1  2,50 - 2,99   \n",
       "220     Perempuan    21           Ilmu Komputer            3  3,00 - 3,49   \n",
       "221     Perempuan    20               Manajemen            2  3,00 - 3,49   \n",
       "223          Pria    21          Teknik Elektro            3  3,50 - 4,00   \n",
       "\n",
       "    Sudah Menikah? Sedang Depresi? Sedang Cemas? Sedang Panik?  \\\n",
       "0            Tidak              Ya         Tidak            Ya   \n",
       "1            Tidak           Tidak            Ya         Tidak   \n",
       "2            Tidak           Tidak         Tidak         Tidak   \n",
       "3               Ya              Ya         Tidak         Tidak   \n",
       "4            Tidak           Tidak         Tidak         Tidak   \n",
       "..             ...             ...           ...           ...   \n",
       "218          Tidak           Tidak            Ya            Ya   \n",
       "219          Tidak           Tidak         Tidak         Tidak   \n",
       "220          Tidak              Ya         Tidak            Ya   \n",
       "221             Ya              Ya         Tidak         Tidak   \n",
       "223          Tidak              Ya            Ya         Tidak   \n",
       "\n",
       "    Sedang Menjalani Perawatan? Memiliki Kondisi? Kondisi  \n",
       "0                         Tidak                Ya      DP  \n",
       "1                         Tidak                Ya       A  \n",
       "2                         Tidak             Tidak    None  \n",
       "3                         Tidak                Ya       D  \n",
       "4                         Tidak             Tidak    None  \n",
       "..                          ...               ...     ...  \n",
       "218                          Ya                Ya      AP  \n",
       "219                       Tidak             Tidak    None  \n",
       "220                          Ya                Ya      DP  \n",
       "221                       Tidak                Ya       D  \n",
       "223                       Tidak                Ya      AD  \n",
       "\n",
       "[161 rows x 12 columns]"
      ]
     },
     "execution_count": 16,
     "metadata": {},
     "output_type": "execute_result"
    }
   ],
   "source": [
    "df['Kondisi'] = ''\n",
    "df.loc[anxiety_filter, 'Kondisi'] += 'A'\n",
    "df.loc[depressed_filter, 'Kondisi'] += 'D'\n",
    "df.loc[panicking_filter, 'Kondisi'] += 'P'\n",
    "df.loc[no_conditions_filter, 'Kondisi'] += 'None'\n",
    "# df['Condition'].unique()\n",
    "\n",
    "df"
   ]
  },
  {
   "cell_type": "markdown",
   "metadata": {
    "id": "5EZWWZKR6UuZ"
   },
   "source": [
    "## Data Visualization"
   ]
  },
  {
   "cell_type": "markdown",
   "metadata": {
    "id": "cwHSVJSuMyA6"
   },
   "source": [
    "Distribusi Gender - Visualisasikan distribusi gender di kalangan siswa"
   ]
  },
  {
   "cell_type": "code",
   "execution_count": 17,
   "metadata": {
    "colab": {
     "base_uri": "https://localhost:8080/",
     "height": 448
    },
    "id": "v-Aa6uMAMyvf",
    "outputId": "676edb57-85d7-40e2-c94a-ff3ef151c0f1"
   },
   "outputs": [
    {
     "data": {
      "image/png": "[encoded data removed]",
      "text/plain": [
       "<Figure size 640x480 with 1 Axes>"
      ]
     },
     "metadata": {},
     "output_type": "display_data"
    }
   ],
   "source": [
    "labels = df['Jenis Kelamin'].value_counts().index\n",
    "\n",
    "plt.pie(df['Jenis Kelamin'].value_counts(),labels=labels, autopct='%1.1f%%',startangle=180, explode=(0.005,0.005))\n",
    "plt.axis('equal')\n",
    "plt.title('Siswa per Gender', fontsize=12, fontweight='bold', pad=20)\n",
    "plt.show()"
   ]
  },
  {
   "cell_type": "markdown",
   "metadata": {
    "id": "iXG4a9OUNFzg"
   },
   "source": [
    "Siswa berdasarkan Tahun Studi"
   ]
  },
  {
   "cell_type": "code",
   "execution_count": 18,
   "metadata": {
    "colab": {
     "base_uri": "https://localhost:8080/",
     "height": 472
    },
    "id": "B2z8xes4NG3l",
    "outputId": "b0a10718-5b26-44d7-c41f-132d1becdb86"
   },
   "outputs": [
    {
     "data": {
      "image/png": "[encoded data removed]",
      "text/plain": [
       "<Figure size 640x480 with 1 Axes>"
      ]
     },
     "metadata": {},
     "output_type": "display_data"
    }
   ],
   "source": [
    "sns.countplot(data=df, x='Tahun Studi').set(xlabel=None, ylabel='Siswa')\n",
    "plt.title('Siswa berdasarkan Tahun Studi', fontsize=12, fontweight='bold', pad=20)\n",
    "sns.color_palette(\"pastel\")\n",
    "\n",
    "plt.show()"
   ]
  },
  {
   "cell_type": "markdown",
   "metadata": {
    "id": "cjSigHpdNcuV"
   },
   "source": [
    "Siswa menurut IPK"
   ]
  },
  {
   "cell_type": "code",
   "execution_count": 19,
   "metadata": {
    "colab": {
     "base_uri": "https://localhost:8080/",
     "height": 491
    },
    "id": "wIrflgTHNdaN",
    "outputId": "778ed497-3b4e-4b6c-df7c-9f965cb66a6a"
   },
   "outputs": [
    {
     "data": {
      "image/png": "[encoded data removed]",
      "text/plain": [
       "<Figure size 640x480 with 1 Axes>"
      ]
     },
     "metadata": {},
     "output_type": "display_data"
    }
   ],
   "source": [
    "sns.histplot(df['IPK'].sort_values(), kde=True)\n",
    "plt.xlabel('Rentang IPK')\n",
    "plt.ylabel('Siswa')\n",
    "plt.title('Distribusi IPK', fontsize=12, fontweight='bold', pad=20)\n",
    "plt.show()"
   ]
  },
  {
   "cell_type": "markdown",
   "metadata": {
    "id": "RBWcup_HN2pd"
   },
   "source": [
    "Siswa berdasarkan Usia"
   ]
  },
  {
   "cell_type": "code",
   "execution_count": 20,
   "metadata": {
    "colab": {
     "base_uri": "https://localhost:8080/",
     "height": 491
    },
    "id": "VsHLibqDN5Hl",
    "outputId": "619d8464-aa88-423d-8fe9-0f4ba989926d"
   },
   "outputs": [
    {
     "data": {
      "image/png": "[encoded data removed]",
      "text/plain": [
       "<Figure size 640x480 with 1 Axes>"
      ]
     },
     "metadata": {},
     "output_type": "display_data"
    }
   ],
   "source": [
    "sns.countplot(data=df, x='Umur')\n",
    "plt.xlabel('Umur')\n",
    "plt.ylabel('Siswa')\n",
    "plt.title('Distribusi Usia', fontsize=12, fontweight='bold', pad=20)\n",
    "\n",
    "plt.show()"
   ]
  },
  {
   "cell_type": "markdown",
   "metadata": {
    "id": "Wj6IZn4FCaFY"
   },
   "source": [
    "Analisis Awal\n",
    "\n",
    "Dalam analisis awal tentang struktur dasar kumpulan data ini, kami telah memperhatikan lima pengamatan utama:\n",
    "\n",
    "1. Distribusi nilai tertinggi adalah pada Umur 18, dengan nilai sekitar 35.\n",
    "Nilai distribusi menurun secara signifikan setelah Umur 18, mencapai nilai sekitar 30 pada Umur 19.\n",
    "2. Nilai distribusi terus menurun hingga mencapai nilai sekitar 20 pada Umur 21.\n",
    "3. Setelah Umur 21, nilai distribusi mulai fluktuatif, mencapai sekitar 15 pada Umur 22, lalu naik lagi ke sekitar 20 pada Umur 23.\n",
    "4. Pada Umur 24, nilai distribusi berada di sekitar 25, menunjukkan peningkatan dari Umur 23.\n",
    "\n",
    "Secara umum, grafik ini menunjukkan pola distribusi nilai yang menurun tajam setelah usia 18 tahun, lalu berfluktuasi pada usia-usia selanjutnya."
   ]
  },
  {
   "cell_type": "markdown",
   "metadata": {
    "id": "Y2z7TqiJ7nfq"
   },
   "source": [
    "**Exploratory Data Analysis**"
   ]
  },
  {
   "cell_type": "code",
   "execution_count": 21,
   "metadata": {
    "id": "lccP-59ZODY3"
   },
   "outputs": [],
   "source": [
    "df_condition = df[df['Memiliki Kondisi?'] == 'Ya']"
   ]
  },
  {
   "cell_type": "markdown",
   "metadata": {
    "id": "wMu0b0Q3CFAD"
   },
   "source": [
    "Menemukan kondisi yang paling umum"
   ]
  },
  {
   "cell_type": "code",
   "execution_count": 22,
   "metadata": {
    "colab": {
     "base_uri": "https://localhost:8080/",
     "height": 606
    },
    "id": "yAQ7GkdwONUb",
    "outputId": "575cf84c-d7e4-48be-a41a-f72bece6ce10"
   },
   "outputs": [
    {
     "data": {
      "image/png": "[encoded data removed]",
      "text/plain": [
       "<Figure size 800x600 with 1 Axes>"
      ]
     },
     "metadata": {},
     "output_type": "display_data"
    }
   ],
   "source": [
    "total_entries = len(df_condition)\n",
    "persentase_depresi = (df_condition['Sedang Depresi?'].value_counts()['Ya'] / total_entries) * 100\n",
    "persentase_cemas = (df_condition['Sedang Cemas?'].value_counts()['Ya'] / total_entries) * 100\n",
    "persentase_panik = (df_condition['Sedang Panik?'].value_counts()['Ya'] / total_entries) * 100\n",
    "\n",
    "# Create a pie chart\n",
    "labels = ['Depresi', 'Cemas', 'Panik']\n",
    "sizes = [persentase_depresi, persentase_cemas, persentase_panik]\n",
    "\n",
    "plt.figure(figsize=(8, 6))\n",
    "plt.pie(sizes, explode=(0.1, 0, 0), labels=labels, autopct='%1.1f%%', startangle=140)\n",
    "plt.axis('equal')\n",
    "plt.title('Persentase setiap kondisi', fontsize=12, fontweight='bold', pad=20)\n",
    "plt.tight_layout()\n",
    "plt.show()"
   ]
  },
  {
   "cell_type": "markdown",
   "metadata": {
    "id": "EPFnuH7VCMgu"
   },
   "source": [
    "Berapa banyak orang dengan kondisi tertentu yang menjalani perawatan?"
   ]
  },
  {
   "cell_type": "code",
   "execution_count": 23,
   "metadata": {
    "colab": {
     "base_uri": "https://localhost:8080/",
     "height": 448
    },
    "id": "A1gaiOyXPxA7",
    "outputId": "9311d5a0-5180-4cad-bfb8-1d038ec6d784"
   },
   "outputs": [
    {
     "data": {
      "image/png": "[encoded data removed]",
      "text/plain": [
       "<Figure size 640x480 with 1 Axes>"
      ]
     },
     "metadata": {},
     "output_type": "display_data"
    }
   ],
   "source": [
    "labels = ['Tidak Menjalani Perawatan', 'Sedang Menjalani Perawatan']\n",
    "plt.pie(df_condition['Sedang Menjalani Perawatan?'].value_counts(), labels=labels, autopct='%1.1f%%', startangle=180, explode=(0.005, 0.005))\n",
    "plt.axis('equal')\n",
    "plt.title('Siswa (dengan Kondisi) sedang menjalani perawatan', fontsize=12, fontweight='bold', pad=20)\n",
    "plt.show()"
   ]
  },
  {
   "cell_type": "code",
   "execution_count": 24,
   "metadata": {
    "id": "5lrv_vHAP7AU"
   },
   "outputs": [],
   "source": [
    "sorted_conditions = df_condition['Kondisi'].value_counts().index.tolist()"
   ]
  },
  {
   "cell_type": "code",
   "execution_count": 25,
   "metadata": {
    "colab": {
     "base_uri": "https://localhost:8080/",
     "height": 892
    },
    "id": "2yZAIX1NP8wN",
    "outputId": "3e6036d8-a48c-4be2-ddb2-e8135fb4107e"
   },
   "outputs": [
    {
     "data": {
      "image/png": "[encoded data removed]",
      "text/plain": [
       "<Figure size 1500x1000 with 1 Axes>"
      ]
     },
     "metadata": {},
     "output_type": "display_data"
    }
   ],
   "source": [
    "plt.figure(figsize=(15,10))\n",
    "sns.countplot(data=df_condition, x='Kondisi', hue='Sedang Menjalani Perawatan?', order=sorted_conditions)\n",
    "\n",
    "plt.xlabel('Kondisi')\n",
    "plt.ylabel('Siswa')\n",
    "plt.title('Siswa menjalani pengobatan dengan syarat', fontsize=12, fontweight='bold', pad=20)\n",
    "plt.show()"
   ]
  },
  {
   "cell_type": "markdown",
   "metadata": {
    "id": "LWu8lYS8DCQH"
   },
   "source": [
    "Berdasarkan grafik, dapat disimpulkan bahwa kondisi 'D' (yang diduga terkait depresi) memiliki jumlah siswa terkecil yang sedang menjalani pengobatan, hanya sekitar 10 siswa, sedangkan kondisi 'AP' (diduga terkait gangguan perhatian/hiperaktif) memiliki jumlah siswa terbanyak yang sedang menjalani pengobatan, yaitu sekitar 12 siswa. Secara keseluruhan, grafik menunjukkan variasi jumlah siswa yang sedang menjalani pengobatan untuk berbagai kondisi, berkisar antara 10-16 siswa per kondisi."
   ]
  },
  {
   "cell_type": "markdown",
   "metadata": {
    "id": "dNmDks2SDPP8"
   },
   "source": [
    "**Conditions By Gender**"
   ]
  },
  {
   "cell_type": "code",
   "execution_count": 26,
   "metadata": {
    "colab": {
     "base_uri": "https://localhost:8080/",
     "height": 892
    },
    "id": "xHO3N8oiQAHK",
    "outputId": "9f964b68-e32d-4384-f734-7ef1cb679c9a"
   },
   "outputs": [
    {
     "data": {
      "image/png": "[encoded data removed]",
      "text/plain": [
       "<Figure size 1500x1000 with 1 Axes>"
      ]
     },
     "metadata": {},
     "output_type": "display_data"
    }
   ],
   "source": [
    "plt.figure(figsize=(15,10))\n",
    "sns.countplot(data=df_condition, x='Kondisi', hue='Jenis Kelamin', order=sorted_conditions)\n",
    "\n",
    "plt.xlabel('Kondisi')\n",
    "plt.ylabel('Siswa')\n",
    "plt.title('Kondisi menurut Jenis Kelamin (dengan rasio Perempuan:Pria 75:25)', fontsize=12, fontweight='bold', pad=20)\n",
    "plt.show()"
   ]
  },
  {
   "cell_type": "code",
   "execution_count": 27,
   "metadata": {
    "colab": {
     "base_uri": "https://localhost:8080/"
    },
    "id": "B885LHunQDfo",
    "outputId": "fbb1f34e-1867-450b-e034-ddbfd9d44789"
   },
   "outputs": [
    {
     "name": "stdout",
     "output_type": "stream",
     "text": [
      "  Kondisi   Pria  Perempuan  Total\n",
      "0       A  17.07      19.68  36.75\n",
      "2     ADP  24.84      11.24  36.08\n",
      "6       P  12.42      19.68  32.09\n",
      "5      DP  15.52      11.24  26.77\n",
      "3      AP   6.21      19.68  25.88\n",
      "4       D  17.07       8.43  25.51\n",
      "1      AD  10.87      14.05  24.92\n"
     ]
    }
   ],
   "source": [
    "# Menghitung rasio gender\n",
    "gender_ratio = df_condition['Jenis Kelamin'].value_counts(normalize=True)\n",
    "\n",
    "# Menghitung jumlah kondisi berdasarkan gender\n",
    "grouped = df_condition.groupby(['Kondisi', 'Jenis Kelamin']).size().reset_index(name='Count')\n",
    "grouped = grouped.merge(gender_ratio.rename('Gender Ratio'), left_on='Jenis Kelamin', right_index=True)\n",
    "\n",
    "# Normalisasi jumlah kondisi berdasarkan rasio gender\n",
    "grouped['Count'] = grouped['Count'] / grouped['Gender Ratio']\n",
    "\n",
    "# Pivot data untuk membuat dataframe dengan kondisi sebagai baris dan gender sebagai kolom\n",
    "condition_gender_df = grouped.pivot(index='Kondisi', columns='Jenis Kelamin', values='Count').reset_index()\n",
    "condition_gender_df.fillna(0, inplace=True)\n",
    "condition_gender_df.columns = ['Kondisi', 'Pria', 'Perempuan']\n",
    "\n",
    "# Menambahkan kolom total\n",
    "condition_gender_df['Total'] = condition_gender_df['Pria'] + condition_gender_df['Perempuan']\n",
    "\n",
    "# Menyortir dataframe berdasarkan total\n",
    "condition_gender_df = condition_gender_df.round(2).sort_values('Total', ascending=False)\n",
    "\n",
    "print(condition_gender_df)"
   ]
  },
  {
   "cell_type": "code",
   "execution_count": 28,
   "metadata": {
    "colab": {
     "base_uri": "https://localhost:8080/",
     "height": 908
    },
    "id": "HwCF9Y-kQFDv",
    "outputId": "a8fe77e3-7484-4911-bcb3-570df8ce7ed3"
   },
   "outputs": [
    {
     "data": {
      "image/png": "[encoded data removed]",
      "text/plain": [
       "<Figure size 1500x1000 with 1 Axes>"
      ]
     },
     "metadata": {},
     "output_type": "display_data"
    }
   ],
   "source": [
    "plt.figure(figsize=(15,10))\n",
    "bar_width = 0.35\n",
    "\n",
    "condition_indices = np.arange(len(condition_gender_df))\n",
    "\n",
    "sns.set_style(\"whitegrid\")\n",
    "\n",
    "plt.bar(condition_indices, condition_gender_df['Perempuan'], width=bar_width, color='#5975a4', label='Perempuan')\n",
    "plt.bar(condition_indices + bar_width, condition_gender_df['Pria'], width=bar_width, color='#cc8963', label='Pria')\n",
    "\n",
    "plt.xticks(condition_indices + bar_width / 2, condition_gender_df['Kondisi'], rotation=45)\n",
    "\n",
    "plt.xlabel('Kondisi')\n",
    "plt.ylabel('Jumlah Mahasiswa')\n",
    "plt.title('Kondisi Berdasarkan Gender (Ternormalisasi)', fontsize=12, fontweight='bold', pad=20)\n",
    "\n",
    "# Menambahkan legenda\n",
    "plt.legend()\n",
    "\n",
    "# Menampilkan plot\n",
    "plt.show()"
   ]
  },
  {
   "cell_type": "markdown",
   "metadata": {
    "id": "fUli--bBEGWX"
   },
   "source": [
    "Berdasarkan grafik \"Kondisi Berdasarkan Gender (Ternormalisasi)\", dapat dilihat beberapa hal:\n",
    "\n",
    "1. Untuk kondisi 'ADP', perempuan memiliki nilai yang lebih tinggi dibandingkan pria.\n",
    "2. Untuk kondisi 'A', perempuan juga memiliki nilai yang lebih tinggi daripada pria.\n",
    "3. Pada kondisi 'P', nilai untuk perempuan dan pria terlihat sangat kontras, dimana perempuan memiliki nilai yang jauh lebih tinggi.\n",
    "4. Pada kondisi 'DP', nilai perempuan kembali lebih tinggi daripada pria.\n",
    "5. Untuk kondisi 'D', nilai perempuan dan pria relatif seimbang.\n",
    "6. Pada kondisi 'AD', nilai perempuan lebih tinggi dibandingkan pria.\n",
    "7. Untuk kondisi 'AP', terdapat perbedaan yang cukup besar antara nilai perempuan dan pria, dimana perempuan memiliki nilai yang lebih tinggi.\n",
    "\n",
    "Secara umum, grafik ini menunjukkan bahwa perempuan cenderung memiliki nilai yang lebih tinggi pada berbagai kondisi dibandingkan pria, kecuali pada kondisi 'D' yang relatif seimbang."
   ]
  },
  {
   "cell_type": "markdown",
   "metadata": {
    "id": "fUli--bBEGWX"
   },
   "source": [
    "## Data Processing"
   ]
  },
  {
   "cell_type": "code",
   "execution_count": 1,
   "metadata": {},
   "outputs": [],
   "source": [
    "import pandas as pd\n",
    "from sklearn.model_selection import train_test_split\n",
    "from sklearn.preprocessing import LabelEncoder"
   ]
  },
  {
   "cell_type": "code",
   "execution_count": 3,
   "metadata": {},
   "outputs": [],
   "source": [
    "file_path = './Dataset/stress_dataset.csv'\n",
    "df = pd.read_csv(file_path)"
   ]
  },
  {
   "cell_type": "code",
   "execution_count": 5,
   "metadata": {},
   "outputs": [
    {
     "name": "stdout",
     "output_type": "stream",
     "text": [
      "Data sebelum preprocessing:\n",
      "  Jenis Kelamin  Umur                 Jurusan  Tahun Studi          IPK  \\\n",
      "0     Perempuan    18            Teknik Mesin            1  3,00 - 3,49   \n",
      "1          Pria    21  Pendidikan Agama Islam            2  3,00 - 3,49   \n",
      "2          Pria    19            Teknik Mesin            1  3,00 - 3,49   \n",
      "3     Perempuan    22                   Hukum            3  3,00 - 3,49   \n",
      "4          Pria    23              Matematika            4  3,00 - 3,49   \n",
      "\n",
      "  Sudah Menikah? Sedang Depresi? Sedang Cemas? Sedang Panik?  \\\n",
      "0          TIDAK              Ya         TIDAK            Ya   \n",
      "1          TIDAK           TIDAK            Ya         TIDAK   \n",
      "2          TIDAK           TIDAK         TIDAK         TIDAK   \n",
      "3             Ya              Ya         TIDAK         TIDAK   \n",
      "4          TIDAK           TIDAK         TIDAK         TIDAK   \n",
      "\n",
      "  Sedang Menjalani Perawatan? Status Stress  \n",
      "0                       TIDAK            Ya  \n",
      "1                       TIDAK            Ya  \n",
      "2                       TIDAK         TIDAK  \n",
      "3                       TIDAK            Ya  \n",
      "4                       TIDAK         TIDAK  \n"
     ]
    }
   ],
   "source": [
    "# Menampilkan beberapa baris pertama dari dataset\n",
    "print(\"Data sebelum preprocessing:\")\n",
    "print(df.head())"
   ]
  },
  {
   "cell_type": "code",
   "execution_count": 6,
   "metadata": {},
   "outputs": [],
   "source": [
    "# Melakukan label encoding pada kolom kategorikal\n",
    "label_encoders = {}\n",
    "for column in df.select_dtypes(include=['object']).columns:\n",
    "    le = LabelEncoder()\n",
    "    df[column] = le.fit_transform(df[column])\n",
    "    label_encoders[column] = le"
   ]
  },
  {
   "cell_type": "code",
   "execution_count": 7,
   "metadata": {},
   "outputs": [
    {
     "name": "stdout",
     "output_type": "stream",
     "text": [
      "\n",
      "Data setelah label encoding:\n",
      "   Jenis Kelamin  Umur  Jurusan  Tahun Studi  IPK  Sudah Menikah?  \\\n",
      "0              0    18       45            1    3               0   \n",
      "1              1    21       33            2    3               0   \n",
      "2              1    19       45            1    3               0   \n",
      "3              0    22       16            3    3               1   \n",
      "4              1    23       30            4    3               0   \n",
      "\n",
      "   Sedang Depresi?  Sedang Cemas?  Sedang Panik?  Sedang Menjalani Perawatan?  \\\n",
      "0                1              0              1                            0   \n",
      "1                0              1              0                            0   \n",
      "2                0              0              0                            0   \n",
      "3                1              0              0                            0   \n",
      "4                0              0              0                            0   \n",
      "\n",
      "   Status Stress  \n",
      "0              1  \n",
      "1              1  \n",
      "2              0  \n",
      "3              1  \n",
      "4              0  \n"
     ]
    }
   ],
   "source": [
    "# Menampilkan beberapa baris pertama dari dataset setelah label encoding\n",
    "print(\"\\nData setelah label encoding:\")\n",
    "print(df.head())"
   ]
  },
  {
   "cell_type": "code",
   "execution_count": 8,
   "metadata": {},
   "outputs": [],
   "source": [
    "# Memisahkan fitur dan label\n",
    "# Asumsikan bahwa kolom terakhir adalah label\n",
    "X = df.iloc[:, :-1]\n",
    "y = df.iloc[:, -1]"
   ]
  },
  {
   "cell_type": "code",
   "execution_count": 9,
   "metadata": {},
   "outputs": [],
   "source": [
    "# Membagi data menjadi set pelatihan dan pengujian\n",
    "X_train, X_test, y_train, y_test = train_test_split(X, y, test_size=0.2, random_state=42)"
   ]
  },
  {
   "cell_type": "code",
   "execution_count": 10,
   "metadata": {},
   "outputs": [
    {
     "name": "stdout",
     "output_type": "stream",
     "text": [
      "\n",
      "Ukuran set pelatihan dan pengujian:\n",
      "X_train: (400, 10)\n",
      "X_test: (100, 10)\n",
      "y_train: (400,)\n",
      "y_test: (100,)\n"
     ]
    }
   ],
   "source": [
    "# Menampilkan ukuran dari set pelatihan dan pengujian\n",
    "print(\"\\nUkuran set pelatihan dan pengujian:\")\n",
    "print(f\"X_train: {X_train.shape}\")\n",
    "print(f\"X_test: {X_test.shape}\")\n",
    "print(f\"y_train: {y_train.shape}\")\n",
    "print(f\"y_test: {y_test.shape}\")"
   ]
  },
  {
   "cell_type": "markdown",
   "metadata": {
    "id": "EPFnuH7VCMgu"
   },
   "source": [
    "Dataset telah berhasil dibagi menjadi set pelatihan dan pengujian dengan ukuran yang sesuai"
   ]
  },
  {
   "cell_type": "markdown",
   "metadata": {},
   "source": [
    "## Training Model"
   ]
  },
  {
   "cell_type": "code",
   "execution_count": 12,
   "metadata": {},
   "outputs": [],
   "source": [
    "import tensorflow as tf\n",
    "from sklearn.preprocessing import MinMaxScaler\n",
    "scaler = MinMaxScaler()\n",
    "\n",
    "# Normalisasi data dan ubah ke tipe data int\n",
    "norm_X_train = scaler.fit_transform(X_train).astype(int)\n",
    "norm_X_test = scaler.transform(X_test).astype(int)"
   ]
  },
  {
   "cell_type": "code",
   "execution_count": 13,
   "metadata": {},
   "outputs": [],
   "source": [
    "len(X_train),len(norm_X_train)\n",
    "from tensorflow.keras.layers import Dense, Dropout\n",
    "from tensorflow.keras import Sequential"
   ]
  },
  {
   "cell_type": "code",
   "execution_count": 14,
   "metadata": {},
   "outputs": [
    {
     "name": "stdout",
     "output_type": "stream",
     "text": [
      "Epoch 1/60\n",
      "13/13 [==============================] - 3s 54ms/step - loss: 1.5335 - acc: 0.4650 - val_loss: 0.7520 - val_acc: 0.4900\n",
      "Epoch 2/60\n",
      "13/13 [==============================] - 0s 21ms/step - loss: 0.8099 - acc: 0.5275 - val_loss: 0.7053 - val_acc: 0.6100\n",
      "Epoch 3/60\n",
      "13/13 [==============================] - 0s 11ms/step - loss: 0.6926 - acc: 0.5975 - val_loss: 0.7167 - val_acc: 0.4700\n",
      "Epoch 4/60\n",
      "13/13 [==============================] - 0s 8ms/step - loss: 0.6500 - acc: 0.6100 - val_loss: 0.6276 - val_acc: 0.6400\n",
      "Epoch 5/60\n",
      "13/13 [==============================] - 0s 6ms/step - loss: 0.6319 - acc: 0.6425 - val_loss: 0.6263 - val_acc: 0.6600\n",
      "Epoch 6/60\n",
      "13/13 [==============================] - 0s 6ms/step - loss: 0.6209 - acc: 0.6950 - val_loss: 0.6264 - val_acc: 0.6400\n",
      "Epoch 7/60\n",
      "13/13 [==============================] - 0s 12ms/step - loss: 0.6099 - acc: 0.6850 - val_loss: 0.6055 - val_acc: 0.6700\n",
      "Epoch 8/60\n",
      "13/13 [==============================] - 0s 14ms/step - loss: 0.5922 - acc: 0.6925 - val_loss: 0.6133 - val_acc: 0.6400\n",
      "Epoch 9/60\n",
      "13/13 [==============================] - 0s 12ms/step - loss: 0.5831 - acc: 0.7025 - val_loss: 0.5867 - val_acc: 0.7000\n",
      "Epoch 10/60\n",
      "13/13 [==============================] - 0s 10ms/step - loss: 0.5733 - acc: 0.7100 - val_loss: 0.5831 - val_acc: 0.6900\n",
      "Epoch 11/60\n",
      "13/13 [==============================] - 0s 7ms/step - loss: 0.5617 - acc: 0.7050 - val_loss: 0.5550 - val_acc: 0.7100\n",
      "Epoch 12/60\n",
      "13/13 [==============================] - 0s 10ms/step - loss: 0.5528 - acc: 0.7250 - val_loss: 0.5561 - val_acc: 0.7200\n",
      "Epoch 13/60\n",
      "13/13 [==============================] - 0s 7ms/step - loss: 0.5322 - acc: 0.7450 - val_loss: 0.5315 - val_acc: 0.7300\n",
      "Epoch 14/60\n",
      "13/13 [==============================] - 0s 7ms/step - loss: 0.5187 - acc: 0.7625 - val_loss: 0.5329 - val_acc: 0.7300\n",
      "Epoch 15/60\n",
      "13/13 [==============================] - 0s 11ms/step - loss: 0.5008 - acc: 0.7900 - val_loss: 0.4969 - val_acc: 0.7500\n",
      "Epoch 16/60\n",
      "13/13 [==============================] - 0s 7ms/step - loss: 0.4979 - acc: 0.7750 - val_loss: 0.5054 - val_acc: 0.7300\n",
      "Epoch 17/60\n",
      "13/13 [==============================] - 0s 6ms/step - loss: 0.4662 - acc: 0.7825 - val_loss: 0.4683 - val_acc: 0.7700\n",
      "Epoch 18/60\n",
      "13/13 [==============================] - 0s 16ms/step - loss: 0.4484 - acc: 0.8400 - val_loss: 0.4541 - val_acc: 0.8200\n",
      "Epoch 19/60\n",
      "13/13 [==============================] - 0s 12ms/step - loss: 0.4294 - acc: 0.8125 - val_loss: 0.4513 - val_acc: 0.8300\n",
      "Epoch 20/60\n",
      "13/13 [==============================] - 0s 22ms/step - loss: 0.4089 - acc: 0.8925 - val_loss: 0.4112 - val_acc: 0.8700\n",
      "Epoch 21/60\n",
      "13/13 [==============================] - 0s 8ms/step - loss: 0.3844 - acc: 0.9075 - val_loss: 0.3740 - val_acc: 0.8600\n",
      "Epoch 22/60\n",
      "13/13 [==============================] - 0s 9ms/step - loss: 0.3514 - acc: 0.9025 - val_loss: 0.3399 - val_acc: 0.9000\n",
      "Epoch 23/60\n",
      "13/13 [==============================] - 0s 7ms/step - loss: 0.3162 - acc: 0.9475 - val_loss: 0.3081 - val_acc: 0.9400\n",
      "Epoch 24/60\n",
      "13/13 [==============================] - 0s 5ms/step - loss: 0.3086 - acc: 0.9000 - val_loss: 0.2887 - val_acc: 0.9800\n",
      "Epoch 25/60\n",
      "13/13 [==============================] - 0s 6ms/step - loss: 0.2816 - acc: 0.9500 - val_loss: 0.2901 - val_acc: 0.9400\n",
      "Epoch 26/60\n",
      "13/13 [==============================] - 0s 18ms/step - loss: 0.2536 - acc: 0.9750 - val_loss: 0.2466 - val_acc: 0.9800\n",
      "Epoch 27/60\n",
      "13/13 [==============================] - 0s 18ms/step - loss: 0.2330 - acc: 0.9825 - val_loss: 0.2337 - val_acc: 0.9800\n",
      "Epoch 28/60\n",
      "13/13 [==============================] - 0s 13ms/step - loss: 0.2172 - acc: 0.9800 - val_loss: 0.2297 - val_acc: 0.9500\n",
      "Epoch 29/60\n",
      "13/13 [==============================] - 0s 13ms/step - loss: 0.2000 - acc: 0.9825 - val_loss: 0.2027 - val_acc: 0.9700\n",
      "Epoch 30/60\n",
      "13/13 [==============================] - 0s 18ms/step - loss: 0.1863 - acc: 0.9800 - val_loss: 0.2188 - val_acc: 0.9500\n",
      "Epoch 31/60\n",
      "13/13 [==============================] - 0s 27ms/step - loss: 0.1784 - acc: 0.9850 - val_loss: 0.1882 - val_acc: 0.9600\n",
      "Epoch 32/60\n",
      "13/13 [==============================] - 0s 14ms/step - loss: 0.1583 - acc: 0.9900 - val_loss: 0.1737 - val_acc: 0.9600\n",
      "Epoch 33/60\n",
      "13/13 [==============================] - 0s 13ms/step - loss: 0.1491 - acc: 0.9800 - val_loss: 0.1441 - val_acc: 0.9900\n",
      "Epoch 34/60\n",
      "13/13 [==============================] - 0s 13ms/step - loss: 0.1360 - acc: 0.9875 - val_loss: 0.1325 - val_acc: 0.9900\n",
      "Epoch 35/60\n",
      "13/13 [==============================] - 0s 13ms/step - loss: 0.1231 - acc: 0.9875 - val_loss: 0.1325 - val_acc: 0.9900\n",
      "Epoch 36/60\n",
      "13/13 [==============================] - 0s 13ms/step - loss: 0.1214 - acc: 0.9850 - val_loss: 0.1136 - val_acc: 0.9900\n",
      "Epoch 37/60\n",
      "13/13 [==============================] - 0s 13ms/step - loss: 0.1124 - acc: 0.9925 - val_loss: 0.0984 - val_acc: 1.0000\n",
      "Epoch 38/60\n",
      "13/13 [==============================] - 0s 13ms/step - loss: 0.1043 - acc: 0.9900 - val_loss: 0.1057 - val_acc: 0.9900\n",
      "Epoch 39/60\n",
      "13/13 [==============================] - 0s 13ms/step - loss: 0.0917 - acc: 0.9900 - val_loss: 0.0884 - val_acc: 0.9900\n",
      "Epoch 40/60\n",
      "13/13 [==============================] - 0s 13ms/step - loss: 0.0807 - acc: 0.9950 - val_loss: 0.0810 - val_acc: 0.9900\n",
      "Epoch 41/60\n",
      "13/13 [==============================] - 0s 13ms/step - loss: 0.0803 - acc: 0.9950 - val_loss: 0.0832 - val_acc: 0.9900\n",
      "Epoch 42/60\n",
      "13/13 [==============================] - 0s 20ms/step - loss: 0.0679 - acc: 1.0000 - val_loss: 0.0649 - val_acc: 0.9900\n",
      "Epoch 43/60\n",
      "13/13 [==============================] - 0s 14ms/step - loss: 0.0615 - acc: 1.0000 - val_loss: 0.0750 - val_acc: 0.9900\n",
      "Epoch 44/60\n",
      "13/13 [==============================] - 0s 13ms/step - loss: 0.0568 - acc: 1.0000 - val_loss: 0.0594 - val_acc: 1.0000\n",
      "Epoch 45/60\n",
      "13/13 [==============================] - 0s 13ms/step - loss: 0.0507 - acc: 1.0000 - val_loss: 0.0614 - val_acc: 1.0000\n",
      "Epoch 46/60\n",
      "13/13 [==============================] - 0s 13ms/step - loss: 0.0476 - acc: 1.0000 - val_loss: 0.0544 - val_acc: 1.0000\n",
      "Epoch 47/60\n",
      "13/13 [==============================] - 0s 23ms/step - loss: 0.0414 - acc: 1.0000 - val_loss: 0.0410 - val_acc: 1.0000\n",
      "Epoch 48/60\n",
      "13/13 [==============================] - 0s 13ms/step - loss: 0.0387 - acc: 1.0000 - val_loss: 0.0384 - val_acc: 1.0000\n",
      "Epoch 49/60\n",
      "13/13 [==============================] - 0s 12ms/step - loss: 0.0358 - acc: 1.0000 - val_loss: 0.0358 - val_acc: 1.0000\n",
      "Epoch 50/60\n",
      "13/13 [==============================] - 0s 13ms/step - loss: 0.0319 - acc: 1.0000 - val_loss: 0.0339 - val_acc: 1.0000\n",
      "Epoch 51/60\n",
      "13/13 [==============================] - 0s 14ms/step - loss: 0.0302 - acc: 1.0000 - val_loss: 0.0325 - val_acc: 1.0000\n",
      "Epoch 52/60\n",
      "13/13 [==============================] - 0s 15ms/step - loss: 0.0240 - acc: 1.0000 - val_loss: 0.0229 - val_acc: 1.0000\n",
      "Epoch 53/60\n",
      "13/13 [==============================] - 0s 15ms/step - loss: 0.0184 - acc: 1.0000 - val_loss: 0.0232 - val_acc: 1.0000\n",
      "Epoch 54/60\n",
      "13/13 [==============================] - 0s 13ms/step - loss: 0.0159 - acc: 1.0000 - val_loss: 0.0191 - val_acc: 1.0000\n",
      "Epoch 55/60\n",
      "13/13 [==============================] - 0s 14ms/step - loss: 0.0143 - acc: 1.0000 - val_loss: 0.0144 - val_acc: 1.0000\n",
      "Epoch 56/60\n",
      "13/13 [==============================] - 0s 13ms/step - loss: 0.0124 - acc: 1.0000 - val_loss: 0.0117 - val_acc: 1.0000\n",
      "Epoch 57/60\n",
      "13/13 [==============================] - 0s 13ms/step - loss: 0.0108 - acc: 1.0000 - val_loss: 0.0104 - val_acc: 1.0000\n",
      "Epoch 58/60\n",
      "13/13 [==============================] - 0s 12ms/step - loss: 0.0099 - acc: 1.0000 - val_loss: 0.0101 - val_acc: 1.0000\n",
      "Epoch 59/60\n",
      "13/13 [==============================] - 0s 13ms/step - loss: 0.0083 - acc: 1.0000 - val_loss: 0.0095 - val_acc: 1.0000\n",
      "Epoch 60/60\n",
      "13/13 [==============================] - 0s 12ms/step - loss: 0.0074 - acc: 1.0000 - val_loss: 0.0077 - val_acc: 1.0000\n"
     ]
    }
   ],
   "source": [
    "#baseline model\n",
    "model = Sequential([\n",
    "    tf.keras.layers.Input(shape=(10,)),\n",
    "    Dense(10),\n",
    "    Dense(20,activation='relu'),\n",
    "    Dense(20,activation='relu'),\n",
    "    Dense(10,activation='relu'),\n",
    "    Dense(1,activation='sigmoid')\n",
    "])\n",
    "\n",
    "model.compile(loss='binary_crossentropy',\n",
    "              optimizer='adam',\n",
    "              metrics=['acc'])\n",
    "\n",
    "history = model.fit(X_train,y_train,validation_data=[X_test,y_test],\n",
    "          epochs = 60)"
   ]
  },
  {
   "cell_type": "code",
   "execution_count": 18,
   "metadata": {},
   "outputs": [
    {
     "name": "stdout",
     "output_type": "stream",
     "text": [
      "4/4 [==============================] - 0s 2ms/step - loss: 0.0077 - acc: 1.0000\n"
     ]
    },
    {
     "data": {
      "text/plain": [
       "[0.007669395767152309, 1.0]"
      ]
     },
     "execution_count": 18,
     "metadata": {},
     "output_type": "execute_result"
    }
   ],
   "source": [
    "model.evaluate(X_test,y_test)"
   ]
  },
  {
   "cell_type": "code",
   "execution_count": 17,
   "metadata": {},
   "outputs": [
    {
     "data": {
      "image/png": "[encoded data removed]",
      "text/plain": [
       "<Figure size 1200x600 with 2 Axes>"
      ]
     },
     "metadata": {},
     "output_type": "display_data"
    }
   ],
   "source": [
    "plt.figure(figsize=(12, 6))\n",
    "\n",
    "# Plot untuk akurasi\n",
    "plt.subplot(1, 2, 1)\n",
    "plt.plot(history.history['acc'], label='Train Accuracy')\n",
    "plt.plot(history.history['val_acc'], label='Validation Accuracy')\n",
    "plt.xlabel('Epochs')\n",
    "plt.ylabel('Accuracy')\n",
    "plt.title('Train and Validation Accuracy')\n",
    "plt.legend()\n",
    "\n",
    "# Plot untuk loss\n",
    "plt.subplot(1, 2, 2)\n",
    "plt.plot(history.history['loss'], label='Train Loss')\n",
    "plt.plot(history.history['val_loss'], label='Validation Loss')\n",
    "plt.xlabel('Epochs')\n",
    "plt.ylabel('Loss')\n",
    "plt.title('Train and Validation Loss')\n",
    "plt.legend()\n",
    "\n",
    "plt.show()"
   ]
  },
  {
   "cell_type": "code",
   "execution_count": 24,
   "metadata": {},
   "outputs": [
    {
     "name": "stdout",
     "output_type": "stream",
     "text": [
      "4/4 [==============================] - 0s 5ms/step - loss: 0.0077 - acc: 1.0000\n",
      "Test Loss: 0.0076692779548466206\n",
      "Test Accuracy: 1.0\n",
      "4/4 [==============================] - 0s 3ms/step\n",
      "Actual: 1, Predicted: 1\n",
      "Actual: 1, Predicted: 1\n",
      "Actual: 1, Predicted: 1\n",
      "Actual: 0, Predicted: 0\n",
      "Actual: 1, Predicted: 1\n",
      "Actual: 1, Predicted: 1\n",
      "Actual: 1, Predicted: 1\n",
      "Actual: 1, Predicted: 1\n",
      "Actual: 1, Predicted: 1\n",
      "Actual: 0, Predicted: 0\n"
     ]
    }
   ],
   "source": [
    "# Evaluasi model pada data pengujian\n",
    "test_loss, test_acc = model.evaluate(X_test, y_test)\n",
    "print(f'Test Loss: {test_loss}')\n",
    "print(f'Test Accuracy: {test_acc}')\n",
    "\n",
    "# Melakukan prediksi pada data pengujian\n",
    "y_pred_prob = model.predict(X_test)\n",
    "y_pred = (y_pred_prob > 0.5).astype(\"int32\")\n",
    "\n",
    "# Menampilkan beberapa hasil prediksi\n",
    "for i in range(10):\n",
    "    print(f'Actual: {y_test[i]}, Predicted: {y_pred[i][0]}')\n",
    "\n",
    "\n"
   ]
  },
  {
   "cell_type": "code",
   "execution_count": 25,
   "metadata": {},
   "outputs": [
    {
     "name": "stdout",
     "output_type": "stream",
     "text": [
      "Confusion Matrix:\n",
      "[[37  0]\n",
      " [ 0 63]]\n",
      "Classification Report:\n",
      "              precision    recall  f1-score   support\n",
      "\n",
      "           0       1.00      1.00      1.00        37\n",
      "           1       1.00      1.00      1.00        63\n",
      "\n",
      "    accuracy                           1.00       100\n",
      "   macro avg       1.00      1.00      1.00       100\n",
      "weighted avg       1.00      1.00      1.00       100\n",
      "\n"
     ]
    }
   ],
   "source": [
    "# Membuat confusion matrix untuk evaluasi lebih lanjut\n",
    "from sklearn.metrics import confusion_matrix, classification_report\n",
    "\n",
    "conf_matrix = confusion_matrix(y_test, y_pred)\n",
    "print('Confusion Matrix:')\n",
    "print(conf_matrix)\n",
    "\n",
    "# Laporan klasifikasi\n",
    "class_report = classification_report(y_test, y_pred)\n",
    "print('Classification Report:')\n",
    "print(class_report)"
   ]
  },
  {
   "cell_type": "code",
   "execution_count": 26,
   "metadata": {},
   "outputs": [
    {
     "name": "stderr",
     "output_type": "stream",
     "text": [
      "c:\\Users\\Windows 10\\AppData\\Local\\Programs\\Python\\Python311\\Lib\\site-packages\\keras\\src\\engine\\training.py:3079: UserWarning: You are saving your model as an HDF5 file via `model.save()`. This file format is considered legacy. We recommend using instead the native Keras format, e.g. `model.save('my_model.keras')`.\n",
      "  saving_api.save_model(\n"
     ]
    }
   ],
   "source": [
    "model.save('model.h5')"
   ]
  },
  {
   "cell_type": "markdown",
   "metadata": {},
   "source": [
    "## Predict data Baru"
   ]
  },
  {
   "cell_type": "code",
   "execution_count": 32,
   "metadata": {},
   "outputs": [
    {
     "name": "stdout",
     "output_type": "stream",
     "text": [
      "1/1 [==============================] - 0s 86ms/step\n",
      "Data 1: Prediksi=1, Probabilitas Stres=0.9991\n",
      "Data 2: Prediksi=1, Probabilitas Stres=0.9987\n",
      "Data 3: Prediksi=0, Probabilitas Stres=0.5518\n",
      "Data 4: Prediksi=0, Probabilitas Stres=0.7101\n"
     ]
    }
   ],
   "source": [
    "from keras.models import load_model\n",
    "import pandas as pd\n",
    "from sklearn.preprocessing import StandardScaler\n",
    "\n",
    "# Load model yang sudah dilatih\n",
    "model = load_model('model.h5')\n",
    "\n",
    "# Data baru untuk prediksi\n",
    "new_data = pd.DataFrame({\n",
    "    'Jenis Kelamin': [0, 1, 0, 0],\n",
    "    'Umur': [21, 18, 22, 19],\n",
    "    'Jurusan': [1, 3, 4, 1],\n",
    "    'Tahun Studi': [4, 4, 2, 1],\n",
    "    'IPK': [4, 3, 4, 2],\n",
    "    'Sudah Menikah?': [0, 1, 0, 1],\n",
    "    'Sedang Depresi?': [1, 1, 0, 0],\n",
    "    'Sedang Cemas?': [1, 0, 0, 0],\n",
    "    'Sedang Panik?': [0, 1, 0, 0],\n",
    "    'Sedang Menjalani Perawatan?': [1, 0, 0, 0],\n",
    "})\n",
    "\n",
    "# Normalisasi data baru\n",
    "new_data_normalized = scaler.fit_transform(new_data).astype(int)\n",
    "\n",
    "# Melakukan prediksi pada data baru\n",
    "new_pred_prob = model.predict(new_data_normalized)\n",
    "new_pred = (new_pred_prob > 0.8).astype(\"int32\")\n",
    "\n",
    "# Tampilkan hasil prediksi\n",
    "for i in range(len(new_pred)):\n",
    "    print(f\"Data {i+1}: Prediksi={new_pred[i][0]}, Probabilitas Stres={new_pred_prob[i][0]:.4f}\")\n"
   ]
  }
 ],
 "metadata": {
  "colab": {
   "provenance": []
  },
  "kernelspec": {
   "display_name": "Python 3 (ipykernel)",
   "language": "python",
   "name": "python3"
  },
  "language_info": {
   "codemirror_mode": {
    "name": "ipython",
    "version": 3
   },
   "file_extension": ".py",
   "mimetype": "text/x-python",
   "name": "python",
   "nbconvert_exporter": "python",
   "pygments_lexer": "ipython3",
   "version": "3.11.4"
  },
  "widgets": {
   "application/vnd.jupyter.widget-state+json": {
    "state": {},
    "version_major": 2,
    "version_minor": 0
   }
  }
 },
 "nbformat": 4,
 "nbformat_minor": 4
}
